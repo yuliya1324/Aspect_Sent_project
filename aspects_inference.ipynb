{
 "cells": [
  {
   "cell_type": "code",
   "execution_count": 13,
   "id": "439d996f",
   "metadata": {},
   "outputs": [],
   "source": [
    "import re\n",
    "import torch\n",
    "from nltk.tokenize import word_tokenize\n",
    "\n",
    "from transformers import (\n",
    "    AutoTokenizer,\n",
    "    AutoModelForTokenClassification,\n",
    ")"
   ]
  },
  {
   "cell_type": "code",
   "execution_count": 2,
   "id": "7aa41e05",
   "metadata": {},
   "outputs": [],
   "source": [
    "device_1 = torch.device(\"cuda:0\" if torch.cuda.is_available() else \"cpu\")\n",
    "device_2 = torch.device(\"cuda:1\" if torch.cuda.is_available() else \"cpu\")"
   ]
  },
  {
   "cell_type": "code",
   "execution_count": 6,
   "id": "5351d830",
   "metadata": {},
   "outputs": [],
   "source": [
    "MODEL_NAME = 'sberbank-ai/ruRoberta-large'"
   ]
  },
  {
   "cell_type": "code",
   "execution_count": 7,
   "id": "b1dc2fa4",
   "metadata": {},
   "outputs": [],
   "source": [
    "tokenizer = AutoTokenizer.from_pretrained(MODEL_NAME, add_prefix_space=True)"
   ]
  },
  {
   "cell_type": "code",
   "execution_count": 4,
   "id": "122ffb7b",
   "metadata": {},
   "outputs": [],
   "source": [
    "model_cat = torch.load(\"model_aspect_cat.pt\")\n",
    "model_sent = torch.load(\"model_aspect_sent.pt\")"
   ]
  },
  {
   "cell_type": "code",
   "execution_count": 15,
   "id": "d6dbff90",
   "metadata": {},
   "outputs": [],
   "source": [
    "_ = model_cat.to(device_1)\n",
    "_ = model_sent.to(device_2)"
   ]
  },
  {
   "cell_type": "code",
   "execution_count": 9,
   "id": "14d2cc2f",
   "metadata": {},
   "outputs": [],
   "source": [
    "def join_punctuation(seq, right_punct = '!$%\\'),-.:;?', left_punct = '('):\n",
    "    right_punct = set(right_punct)\n",
    "    left_punct = set(left_punct)\n",
    "    seq = iter(seq)\n",
    "    current = next(seq)\n",
    "\n",
    "    for nxt in seq:\n",
    "        if nxt in right_punct:\n",
    "            current += nxt\n",
    "        elif current in left_punct:\n",
    "            current += nxt\n",
    "        else:\n",
    "            yield current\n",
    "            current = nxt\n",
    "\n",
    "    yield current"
   ]
  },
  {
   "cell_type": "code",
   "execution_count": 23,
   "id": "8d02d503",
   "metadata": {},
   "outputs": [],
   "source": [
    "int_to_cat = [\n",
    "    \"O\", \n",
    "    \"Food\", \n",
    "    \"Food\", \n",
    "    \"Interior\",\n",
    "    \"Interior\", \n",
    "    \"Price\",\n",
    "    \"Price\", \n",
    "    \"Whole\", \n",
    "    \"Whole\", \n",
    "    \"Service\", \n",
    "    \"Service\",\n",
    "]\n",
    "int_to_sent = [\"positive\", \"negative\", \"neutral\", \"both\"]\n",
    "\n",
    "def inference(review, model_cat, model_sent, tokenizer, idx):\n",
    "    tokens = word_tokenize(review)\n",
    "    text = review\n",
    "    \n",
    "    model_cat.eval()\n",
    "    model_sent.eval()\n",
    "    tokenized = tokenizer(tokens, is_split_into_words=True, return_tensors=\"pt\")\n",
    "    word_ids = tokenized.word_ids()\n",
    "    \n",
    "    res = []\n",
    "    pred = model_cat(tokenized[\"input_ids\"].to(device_1), attention_mask=tokenized[\"attention_mask\"].to(device_1)).logits.argmax(dim=2)[0]\n",
    "    prev = None\n",
    "    for k, j in enumerate(word_ids):\n",
    "        if j != None and prev != j:\n",
    "            res.append(int_to_cat[pred[k].item()])\n",
    "        prev = j\n",
    "        \n",
    "    res_2 = []\n",
    "    pred = model_sent(tokenized[\"input_ids\"].to(device_2), attention_mask=tokenized[\"attention_mask\"].to(device_2)).logits.argmax(dim=2)[0]\n",
    "    prev = None\n",
    "    for k, j in enumerate(word_ids):\n",
    "        if j != None and prev != j:\n",
    "            res_2.append(int_to_sent[pred[k].item()])\n",
    "        prev = j\n",
    "        \n",
    "    result = []\n",
    "    prev = None\n",
    "    for token, tag, sent in zip(tokens, res, res_2):\n",
    "        if tag != \"O\":\n",
    "            if prev and prev == tag:\n",
    "                result[-1][0].append(token) \n",
    "            else:\n",
    "                result.append([[token], tag, sent])\n",
    "        prev = tag\n",
    "        \n",
    "    output = []\n",
    "    length = 0\n",
    "    for span in result:\n",
    "        word = ' '.join(join_punctuation(span[0]))\n",
    "        m = re.search(word, text)\n",
    "        if m:\n",
    "            s, e = m.span()\n",
    "            output.append([idx, span[1], word, str(s + length), str(e + length), span[2]])\n",
    "            text = text[e:]\n",
    "            length += e\n",
    "    return output"
   ]
  },
  {
   "cell_type": "code",
   "execution_count": 27,
   "id": "07212837",
   "metadata": {},
   "outputs": [],
   "source": [
    "reviews_filename = \"data/dev_reviews.txt\"\n",
    "aspect_filename = \"data/dev_pred_aspects.txt\"\n",
    "\n",
    "with open(aspect_filename, \"w\", encoding=\"utf-8\") as file_write:\n",
    "    with open(reviews_filename, encoding=\"utf-8\") as file_read:\n",
    "        for line in file_read:\n",
    "            line = line[:-1]\n",
    "            idx, review = line.split(\"\\t\")\n",
    "            res = inference(review, model_cat, model_sent, tokenizer, idx)\n",
    "            for r in res:\n",
    "                file_write.write(\"\\t\".join(r) + \"\\n\")"
   ]
  },
  {
   "cell_type": "code",
   "execution_count": null,
   "id": "fbafbd55",
   "metadata": {},
   "outputs": [],
   "source": []
  }
 ],
 "metadata": {
  "kernelspec": {
   "display_name": "Python 3 (ipykernel)",
   "language": "python",
   "name": "python3"
  },
  "language_info": {
   "codemirror_mode": {
    "name": "ipython",
    "version": 3
   },
   "file_extension": ".py",
   "mimetype": "text/x-python",
   "name": "python",
   "nbconvert_exporter": "python",
   "pygments_lexer": "ipython3",
   "version": "3.8.13"
  }
 },
 "nbformat": 4,
 "nbformat_minor": 5
}
