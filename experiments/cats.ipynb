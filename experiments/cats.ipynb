{
 "cells": [
  {
   "cell_type": "markdown",
   "metadata": {},
   "source": [
    "# Install & imports"
   ]
  },
  {
   "cell_type": "code",
   "execution_count": 1,
   "metadata": {
    "colab": {
     "base_uri": "https://localhost:8080/",
     "height": 158
    },
    "executionInfo": {
     "elapsed": 32739,
     "status": "ok",
     "timestamp": 1671533250928,
     "user": {
      "displayName": "Юлия Короткова",
      "userId": "07771836480209080958"
     },
     "user_tz": -180
    },
    "id": "sFEgAvMUWxoL",
    "outputId": "d7a0a3e3-ac2c-44be-e708-2c5e49cc885d"
   },
   "outputs": [
    {
     "name": "stderr",
     "output_type": "stream",
     "text": [
      "\u001b[34m\u001b[1mwandb\u001b[0m: Currently logged in as: \u001b[33mjulia_kor\u001b[0m. Use \u001b[1m`wandb login --relogin`\u001b[0m to force relogin\n"
     ]
    },
    {
     "data": {
      "text/plain": [
       "True"
      ]
     },
     "execution_count": 1,
     "metadata": {},
     "output_type": "execute_result"
    }
   ],
   "source": [
    "import wandb\n",
    "wandb.login()"
   ]
  },
  {
   "cell_type": "code",
   "execution_count": 2,
   "metadata": {
    "executionInfo": {
     "elapsed": 5901,
     "status": "ok",
     "timestamp": 1671533256816,
     "user": {
      "displayName": "Юлия Короткова",
      "userId": "07771836480209080958"
     },
     "user_tz": -180
    },
    "id": "s2WcO5dUPWgp"
   },
   "outputs": [],
   "source": [
    "import pandas as pd\n",
    "from sklearn.model_selection import train_test_split\n",
    "import transformers\n",
    "from transformers import AutoModelForSequenceClassification, AutoTokenizer, AdamW, get_linear_schedule_with_warmup, AutoModel\n",
    "import torch\n",
    "import numpy as np\n",
    "from torch.utils.data import Dataset, DataLoader\n",
    "import re\n",
    "from torch import nn, optim\n",
    "from sklearn.metrics import f1_score, classification_report, accuracy_score"
   ]
  },
  {
   "cell_type": "code",
   "execution_count": 3,
   "metadata": {
    "executionInfo": {
     "elapsed": 15,
     "status": "ok",
     "timestamp": 1671533256819,
     "user": {
      "displayName": "Юлия Короткова",
      "userId": "07771836480209080958"
     },
     "user_tz": -180
    },
    "id": "aU7L1rsuPtuP"
   },
   "outputs": [],
   "source": [
    "import random\n",
    "\n",
    "def set_random_seed(seed):\n",
    "    torch.backends.cudnn.deterministic = True\n",
    "    torch.manual_seed(seed)\n",
    "    torch.cuda.manual_seed(seed)\n",
    "    np.random.seed(seed)\n",
    "    random.seed(seed)"
   ]
  },
  {
   "cell_type": "code",
   "execution_count": 4,
   "metadata": {
    "executionInfo": {
     "elapsed": 1308,
     "status": "ok",
     "timestamp": 1671533258115,
     "user": {
      "displayName": "Юлия Короткова",
      "userId": "07771836480209080958"
     },
     "user_tz": -180
    },
    "id": "oWjIrnc1PvAI"
   },
   "outputs": [],
   "source": [
    "RANDOM_SEED = 1234\n",
    "set_random_seed(RANDOM_SEED)\n",
    "device = torch.device(\"cuda:0\" if torch.cuda.is_available() else \"cpu\")"
   ]
  },
  {
   "cell_type": "markdown",
   "metadata": {},
   "source": [
    "# Train"
   ]
  },
  {
   "cell_type": "code",
   "execution_count": 5,
   "metadata": {
    "executionInfo": {
     "elapsed": 4,
     "status": "ok",
     "timestamp": 1671533322963,
     "user": {
      "displayName": "Юлия Короткова",
      "userId": "07771836480209080958"
     },
     "user_tz": -180
    },
    "id": "lhy4wkg2PzG_"
   },
   "outputs": [],
   "source": [
    "df_train = pd.read_csv('data/cats_train.csv', index_col=0)\n",
    "df_val = pd.read_csv('data/cats_val.csv', index_col=0)"
   ]
  },
  {
   "cell_type": "code",
   "execution_count": 6,
   "metadata": {
    "executionInfo": {
     "elapsed": 3,
     "status": "ok",
     "timestamp": 1671533331569,
     "user": {
      "displayName": "Юлия Короткова",
      "userId": "07771836480209080958"
     },
     "user_tz": -180
    },
    "id": "5s4eiqYxP7jF"
   },
   "outputs": [],
   "source": [
    "class CatDataset(Dataset):\n",
    "\n",
    "  def __init__(self, data, tokenizer, max_len):\n",
    "    self.texts = data[\"text\"]\n",
    "    self.Food = data[\"Food\"]\n",
    "    self.Interior = data[\"Interior\"]\n",
    "    self.Price = data[\"Price\"]\n",
    "    self.Whole = data[\"Whole\"]\n",
    "    self.Service = data[\"Service\"]\n",
    "    self.id = data[\"idx\"]\n",
    "    self.tokenizer = tokenizer\n",
    "    self.max_len = max_len\n",
    "    self.class_to_int = {\"absence\": 0, \"positive\": 1, \"negative\": 2, \"both\": 3, \"neutral\": 4}\n",
    "  \n",
    "  def __len__(self):\n",
    "    return len(self.texts)\n",
    "  \n",
    "  def __getitem__(self, item):\n",
    "    text = self.texts.iloc[item]\n",
    "    Food = self.class_to_int[self.Food.iloc[item]]\n",
    "    Interior = self.class_to_int[self.Interior.iloc[item]]\n",
    "    Price = self.class_to_int[self.Price.iloc[item]]\n",
    "    Whole = self.class_to_int[self.Whole.iloc[item]]\n",
    "    Service = self.class_to_int[self.Service.iloc[item]]\n",
    "    idx = self.id.iloc[item]\n",
    "\n",
    "    encoding = self.tokenizer.encode_plus(\n",
    "      text,\n",
    "      add_special_tokens=True,\n",
    "      max_length=self.max_len,\n",
    "      return_token_type_ids=False,\n",
    "      padding='max_length',\n",
    "      truncation=True,\n",
    "      return_attention_mask=True,\n",
    "      return_tensors='pt',\n",
    "    )\n",
    "\n",
    "    return {\n",
    "      'id': idx,\n",
    "      'text': text,\n",
    "      'input_ids': encoding['input_ids'].flatten(),\n",
    "      'attention_mask': encoding['attention_mask'].flatten(),\n",
    "      'Food': torch.tensor(Food, dtype=torch.long),\n",
    "      'Interior': torch.tensor(Interior, dtype=torch.long),\n",
    "      'Price': torch.tensor(Price, dtype=torch.long),\n",
    "      'Whole': torch.tensor(Whole, dtype=torch.long),\n",
    "      'Service': torch.tensor(Service, dtype=torch.long),\n",
    "    }"
   ]
  },
  {
   "cell_type": "code",
   "execution_count": 7,
   "metadata": {
    "executionInfo": {
     "elapsed": 6,
     "status": "ok",
     "timestamp": 1671533332145,
     "user": {
      "displayName": "Юлия Короткова",
      "userId": "07771836480209080958"
     },
     "user_tz": -180
    },
    "id": "_jUySb4_R3lK"
   },
   "outputs": [],
   "source": [
    "def create_data_loader(df, tokenizer, max_len, batch_size):\n",
    "  ds = CatDataset(\n",
    "    data=df,\n",
    "    tokenizer=tokenizer,\n",
    "    max_len=max_len\n",
    "  )\n",
    "\n",
    "  return DataLoader(\n",
    "    ds,\n",
    "    batch_size=batch_size,\n",
    "    num_workers=1\n",
    "  )"
   ]
  },
  {
   "cell_type": "code",
   "execution_count": 8,
   "metadata": {
    "executionInfo": {
     "elapsed": 53,
     "status": "ok",
     "timestamp": 1671533353701,
     "user": {
      "displayName": "Юлия Короткова",
      "userId": "07771836480209080958"
     },
     "user_tz": -180
    },
    "id": "jm3_miPwR8_E"
   },
   "outputs": [],
   "source": [
    "MAX_LEN = 512\n",
    "BATCH_SIZE = 4\n",
    "MODEL_NAME = 'sberbank-ai/ruRoberta-large'"
   ]
  },
  {
   "cell_type": "code",
   "execution_count": 9,
   "metadata": {
    "colab": {
     "base_uri": "https://localhost:8080/",
     "height": 113,
     "referenced_widgets": [
      "1a58542038eb41158854548b39b6672c",
      "fa758666ee22400e803b91149f02044f",
      "dd633ef9832542e89f5c21d1e96e5213",
      "199e7bf3c6a7498ab2aa32e3625cc658",
      "42db5f9fc41f430382a336729b701676",
      "af60c455df804694b11057659c28b27a",
      "334ff387c0b6464799d94d382f140903",
      "0652a5f2eab94198a9e14e0c2e13f273",
      "1c5f1d1416804f9cabf6e60ce9761867",
      "6f256f1e02ec4b97818976046694d2ea",
      "fa94bab3f09c49dfb0b4426f34099c76",
      "b36788b0509149ff93505293af140eac",
      "3c2800d715e14ce3bc121acf8cb7dbaa",
      "8a3c6ff1b07d49a39cff5abe25f9f5c4",
      "503c73f8e48b478d9645588e079b1f42",
      "43c3b1e644744826a5774066e4de8fae",
      "79dd4b95b07d42c296383f6aa902f848",
      "0f9b81a847ec4b73be7db607bda781d7",
      "c7a6d490dc2d47cfba989308c232bc76",
      "39ccd61f82244660b894a6e4da77adbf",
      "0dab22706f8341d9a21198fc2592638b",
      "0ead35c1dd8c435dae7e6b29f38fac4a",
      "46cfaae5d24e48db906e5fba88acde9c",
      "e853c89d46ab4d1ba8811bb6b28a084c",
      "8ec08ad1214e449ebd18435eec8b1f77",
      "691ac24dd17c4134818d3c36c425dcd1",
      "e6cbb6ac0dc94357bdb2dbedbe3723e1",
      "c9d24b623de74350a7f278f4c80196a0",
      "f290edb4b96a410296fe481103d6f817",
      "66d4475519ad4b6984d7d69d44d639e9",
      "44a958c4e92d4dea9c6ddfc2df72c2fe",
      "5d9df3b845ef4f74b1ebbae1e8783b27",
      "f129ef34fb5649e293987a8b1c9dad87"
     ]
    },
    "executionInfo": {
     "elapsed": 873,
     "status": "ok",
     "timestamp": 1671533354523,
     "user": {
      "displayName": "Юлия Короткова",
      "userId": "07771836480209080958"
     },
     "user_tz": -180
    },
    "id": "7HXaOaegSQ4A",
    "outputId": "868d58b9-0c35-4b36-87e5-ea9bcb790401"
   },
   "outputs": [],
   "source": [
    "tokenizer = AutoTokenizer.from_pretrained(MODEL_NAME)"
   ]
  },
  {
   "cell_type": "code",
   "execution_count": 10,
   "metadata": {
    "executionInfo": {
     "elapsed": 13,
     "status": "ok",
     "timestamp": 1671533354525,
     "user": {
      "displayName": "Юлия Короткова",
      "userId": "07771836480209080958"
     },
     "user_tz": -180
    },
    "id": "rBTdH0R-STMX"
   },
   "outputs": [],
   "source": [
    "train_data_loader = create_data_loader(df_train, tokenizer, MAX_LEN, BATCH_SIZE)\n",
    "val_data_loader = create_data_loader(df_val, tokenizer, MAX_LEN, BATCH_SIZE)"
   ]
  },
  {
   "cell_type": "code",
   "execution_count": 11,
   "metadata": {
    "executionInfo": {
     "elapsed": 12,
     "status": "ok",
     "timestamp": 1671533354526,
     "user": {
      "displayName": "Юлия Короткова",
      "userId": "07771836480209080958"
     },
     "user_tz": -180
    },
    "id": "G-A6InrLS0e1"
   },
   "outputs": [],
   "source": [
    "class CatClassifier(nn.Module):\n",
    "\n",
    "    def __init__(self, n_classes):\n",
    "        super(CatClassifier, self).__init__()\n",
    "        self.bert = AutoModel.from_pretrained(MODEL_NAME).to(device)\n",
    "        self.drop = nn.Dropout(p=0.5)\n",
    "        self.Food = nn.Linear(self.bert.config.hidden_size, n_classes).to(device)\n",
    "        self.Interior = nn.Linear(self.bert.config.hidden_size, n_classes).to(device)\n",
    "        self.Price = nn.Linear(self.bert.config.hidden_size, n_classes).to(device)\n",
    "        self.Whole = nn.Linear(self.bert.config.hidden_size, n_classes).to(device)\n",
    "        self.Service = nn.Linear(self.bert.config.hidden_size, n_classes).to(device)\n",
    "  \n",
    "    def forward(self, batch):\n",
    "        outputs = self.bert(\n",
    "            input_ids=batch[\"input_ids\"].to(device),\n",
    "            attention_mask=batch[\"attention_mask\"].to(device)\n",
    "        )\n",
    "        output = self.drop(self.mean_pooling(outputs, batch[\"attention_mask\"].to(device)))\n",
    "        Food = self.Food(output)\n",
    "        Interior = self.Interior(output)\n",
    "        Price = self.Price(output)\n",
    "        Whole = self.Whole(output)\n",
    "        Service = self.Service(output)\n",
    "        return {\n",
    "            \"Food\": Food, \n",
    "            \"Interior\": Interior, \n",
    "            \"Price\": Price, \n",
    "            \"Whole\": Whole, \n",
    "            \"Service\": Service, \n",
    "            }\n",
    "    \n",
    "    @staticmethod\n",
    "    def mean_pooling(model_output, attention_mask):\n",
    "        token_embeddings = model_output[0] #First element of model_output contains all token embeddings\n",
    "        input_mask_expanded = attention_mask.unsqueeze(-1).expand(token_embeddings.size()).float()\n",
    "        sum_embeddings = torch.sum(token_embeddings * input_mask_expanded, 1)\n",
    "        sum_mask = torch.clamp(input_mask_expanded.sum(1), min=1e-9)\n",
    "        return sum_embeddings / sum_mask"
   ]
  },
  {
   "cell_type": "code",
   "execution_count": 12,
   "metadata": {
    "colab": {
     "base_uri": "https://localhost:8080/",
     "height": 156,
     "referenced_widgets": [
      "fcf3224e799a42708ce3f2c03f7668b1",
      "6a21e9d10f78476e971fe18405a779d5",
      "09cdae9950dd469aa32a9deca72c6566",
      "676411ea0b824be8960ca6262f7dfae5",
      "dfaf3d5cae4b41ee8dd776c9470ad6c5",
      "fa8bc98d33764b2486801a3071f72f3e",
      "e71e28e4a1224d6eab4301229adee9a4",
      "18a54c3cc87e44f99bc7b9144a58ad0e",
      "d379c801ef7740299220847c785984ff",
      "9bb441062c6244b694d0337ca9578686",
      "09650dcd132542f49f456e434838d007"
     ]
    },
    "executionInfo": {
     "elapsed": 33761,
     "status": "ok",
     "timestamp": 1671533388760,
     "user": {
      "displayName": "Юлия Короткова",
      "userId": "07771836480209080958"
     },
     "user_tz": -180
    },
    "id": "Lwd-IJoCTfgr",
    "outputId": "d583cf1e-79d6-4a20-caf2-bd31f7d32f94"
   },
   "outputs": [
    {
     "name": "stderr",
     "output_type": "stream",
     "text": [
      "/opt/conda/lib/python3.8/site-packages/torch/nn/modules/module.py:1402: UserWarning: positional arguments and argument \"destination\" are deprecated. nn.Module.state_dict will not accept them in the future. Refer to https://pytorch.org/docs/master/generated/torch.nn.Module.html#torch.nn.Module.state_dict for details.\n",
      "  warnings.warn(\n",
      "Some weights of the model checkpoint at sberbank-ai/ruRoberta-large were not used when initializing RobertaModel: ['lm_head.bias', 'lm_head.dense.bias', 'lm_head.layer_norm.bias', 'lm_head.decoder.weight', 'lm_head.layer_norm.weight', 'lm_head.dense.weight', 'lm_head.decoder.bias']\n",
      "- This IS expected if you are initializing RobertaModel from the checkpoint of a model trained on another task or with another architecture (e.g. initializing a BertForSequenceClassification model from a BertForPreTraining model).\n",
      "- This IS NOT expected if you are initializing RobertaModel from the checkpoint of a model that you expect to be exactly identical (initializing a BertForSequenceClassification model from a BertForSequenceClassification model).\n",
      "Some weights of RobertaModel were not initialized from the model checkpoint at sberbank-ai/ruRoberta-large and are newly initialized: ['roberta.pooler.dense.bias', 'roberta.pooler.dense.weight']\n",
      "You should probably TRAIN this model on a down-stream task to be able to use it for predictions and inference.\n"
     ]
    }
   ],
   "source": [
    "model = CatClassifier(5)"
   ]
  },
  {
   "cell_type": "code",
   "execution_count": 13,
   "metadata": {
    "executionInfo": {
     "elapsed": 164,
     "status": "ok",
     "timestamp": 1671533388764,
     "user": {
      "displayName": "Юлия Короткова",
      "userId": "07771836480209080958"
     },
     "user_tz": -180
    },
    "id": "cmA-mdOQTmJC"
   },
   "outputs": [],
   "source": [
    "for name,param in model.named_parameters():\n",
    "    if not re.search(\"Service|Whole|Price|Food|Interior|pooler|23|22|21|20\", name):\n",
    "        param.requires_grad = False"
   ]
  },
  {
   "cell_type": "code",
   "execution_count": 14,
   "metadata": {
    "colab": {
     "base_uri": "https://localhost:8080/"
    },
    "executionInfo": {
     "elapsed": 163,
     "status": "ok",
     "timestamp": 1671533388767,
     "user": {
      "displayName": "Юлия Короткова",
      "userId": "07771836480209080958"
     },
     "user_tz": -180
    },
    "id": "VtCo3yNxT3eP",
    "outputId": "87872d9c-f036-48f9-bae0-2b47cdc44277"
   },
   "outputs": [
    {
     "name": "stderr",
     "output_type": "stream",
     "text": [
      "/opt/conda/lib/python3.8/site-packages/transformers/optimization.py:306: FutureWarning: This implementation of AdamW is deprecated and will be removed in a future version. Use the PyTorch implementation torch.optim.AdamW instead, or set `no_deprecation_warning=True` to disable this warning\n",
      "  warnings.warn(\n"
     ]
    }
   ],
   "source": [
    "EPOCHS = 10\n",
    "\n",
    "optimizer = AdamW(filter(lambda p: p.requires_grad, model.parameters()), lr=1e-5, correct_bias=False, weight_decay=0.06)\n",
    "total_steps = len(train_data_loader) * EPOCHS\n",
    "\n",
    "scheduler = get_linear_schedule_with_warmup(\n",
    "  optimizer,\n",
    "  num_warmup_steps=0,\n",
    "  num_training_steps=total_steps\n",
    ")\n",
    "loss_fn = nn.CrossEntropyLoss().to(device)"
   ]
  },
  {
   "cell_type": "code",
   "execution_count": 15,
   "metadata": {
    "executionInfo": {
     "elapsed": 158,
     "status": "ok",
     "timestamp": 1671533388770,
     "user": {
      "displayName": "Юлия Короткова",
      "userId": "07771836480209080958"
     },
     "user_tz": -180
    },
    "id": "ETOSGcojT4Ca"
   },
   "outputs": [],
   "source": [
    "def count_loss(batch, pred):\n",
    "    loss1 = loss_fn(pred[\"Food\"], batch[\"Food\"].to(device))\n",
    "    loss2 = loss_fn(pred[\"Interior\"], batch[\"Interior\"].to(device))\n",
    "    loss3 = loss_fn(pred[\"Price\"], batch[\"Price\"].to(device))\n",
    "    loss4 = loss_fn(pred[\"Whole\"], batch[\"Whole\"].to(device))\n",
    "    loss5 = loss_fn(pred[\"Service\"], batch[\"Service\"].to(device))\n",
    "    return sum([loss1, loss2, loss3, loss4, loss5])"
   ]
  },
  {
   "cell_type": "code",
   "execution_count": 16,
   "metadata": {
    "executionInfo": {
     "elapsed": 158,
     "status": "ok",
     "timestamp": 1671533388773,
     "user": {
      "displayName": "Юлия Короткова",
      "userId": "07771836480209080958"
     },
     "user_tz": -180
    },
    "id": "h78iL3OrUDeT"
   },
   "outputs": [],
   "source": [
    "def compute_metrics(batch, pred, sub=\"train\"):\n",
    "    _, Food = torch.max(pred[\"Food\"], dim=1)\n",
    "    _, Interior = torch.max(pred[\"Interior\"], dim=1)\n",
    "    _, Price = torch.max(pred[\"Price\"], dim=1)\n",
    "    _, Whole = torch.max(pred[\"Whole\"], dim=1)\n",
    "    _, Service = torch.max(pred[\"Service\"], dim=1)\n",
    "    Food_s = accuracy_score(batch[\"Food\"], Food.cpu())\n",
    "    Interior_s = accuracy_score(batch[\"Interior\"], Interior.cpu())\n",
    "    Price_s = accuracy_score(batch[\"Price\"], Price.cpu())\n",
    "    Whole_s = accuracy_score(batch[\"Whole\"], Whole.cpu())\n",
    "    Service_s = accuracy_score(batch[\"Service\"], Service.cpu())\n",
    "    return {\n",
    "        f\"{sub}/accuracy\": np.mean([Food_s, Interior_s, Price_s, Whole_s, Service_s]),\n",
    "        f\"{sub}/accuracy_Food\": Food_s,\n",
    "        f\"{sub}/accuracy_Interior\": Interior_s,\n",
    "        f\"{sub}/accuracy_Price\": Price_s,\n",
    "        f\"{sub}/accuracy_Whole\": Whole_s,\n",
    "        f\"{sub}/accuracy_Service\": Service_s,\n",
    "    }"
   ]
  },
  {
   "cell_type": "code",
   "execution_count": 17,
   "metadata": {
    "executionInfo": {
     "elapsed": 160,
     "status": "ok",
     "timestamp": 1671533388778,
     "user": {
      "displayName": "Юлия Короткова",
      "userId": "07771836480209080958"
     },
     "user_tz": -180
    },
    "id": "ZuVu7YDKWR2N"
   },
   "outputs": [],
   "source": [
    "def train_epoch(\n",
    "  model, \n",
    "  data_loader, \n",
    "  optimizer, \n",
    "  device, \n",
    "  scheduler, \n",
    "):\n",
    "  model = model.train()\n",
    "  \n",
    "  for batch in data_loader:\n",
    "    pred = model(batch)\n",
    "    loss = count_loss(batch, pred) \n",
    "    score = compute_metrics(batch, pred)\n",
    "    score[\"train/loss\"] = loss.item()\n",
    "    wandb.log(score)\n",
    "    \n",
    "    loss.backward()\n",
    "    optimizer.step()\n",
    "    scheduler.step()\n",
    "    optimizer.zero_grad()\n",
    "\n",
    "def eval_model(model, data_loader, device):\n",
    "    model = model.eval()\n",
    "\n",
    "    losses = []\n",
    "    true = {\n",
    "            \"Food\": torch.tensor([]), \n",
    "            \"Interior\": torch.tensor([]), \n",
    "            \"Price\": torch.tensor([]), \n",
    "            \"Whole\": torch.tensor([]), \n",
    "            \"Service\": torch.tensor([]), \n",
    "            }\n",
    "    predictions = {\n",
    "            \"Food\": torch.tensor([]), \n",
    "            \"Interior\": torch.tensor([]), \n",
    "            \"Price\": torch.tensor([]), \n",
    "            \"Whole\": torch.tensor([]), \n",
    "            \"Service\": torch.tensor([]), \n",
    "            }\n",
    "\n",
    "    with torch.no_grad():\n",
    "        for batch in data_loader:\n",
    "            pred = model(batch)\n",
    "            loss = count_loss(batch, pred)\n",
    "            losses.append(loss.item())\n",
    "\n",
    "            for k in true:\n",
    "                true[k] = torch.cat((true[k], batch[k].cpu()))\n",
    "                predictions[k] = torch.cat((predictions[k], pred[k].cpu()))\n",
    "\n",
    "    score = compute_metrics(true, predictions, \"eval\")\n",
    "    score[\"eval/loss\"] = np.mean(losses)\n",
    "    wandb.log(score)"
   ]
  },
  {
   "cell_type": "code",
   "execution_count": 18,
   "metadata": {
    "colab": {
     "base_uri": "https://localhost:8080/",
     "height": 552
    },
    "executionInfo": {
     "elapsed": 368224,
     "status": "ok",
     "timestamp": 1671533756844,
     "user": {
      "displayName": "Юлия Короткова",
      "userId": "07771836480209080958"
     },
     "user_tz": -180
    },
    "id": "2GekOgJacM6t",
    "outputId": "b614aed6-73a5-4249-83d2-7ce5a19b98e3"
   },
   "outputs": [
    {
     "data": {
      "text/html": [
       "wandb version 0.13.7 is available!  To upgrade, please run:\n",
       " $ pip install wandb --upgrade"
      ],
      "text/plain": [
       "<IPython.core.display.HTML object>"
      ]
     },
     "metadata": {},
     "output_type": "display_data"
    },
    {
     "data": {
      "text/html": [
       "Tracking run with wandb version 0.12.21"
      ],
      "text/plain": [
       "<IPython.core.display.HTML object>"
      ]
     },
     "metadata": {},
     "output_type": "display_data"
    },
    {
     "data": {
      "text/html": [
       "Run data is saved locally in <code>/src/project/wandb/run-20221222_131159-2a1lp5ib</code>"
      ],
      "text/plain": [
       "<IPython.core.display.HTML object>"
      ]
     },
     "metadata": {},
     "output_type": "display_data"
    },
    {
     "data": {
      "text/html": [
       "Syncing run <strong><a href=\"https://wandb.ai/julia_kor/Sentiment_Aspect/runs/2a1lp5ib\" target=\"_blank\">experiment_3</a></strong> to <a href=\"https://wandb.ai/julia_kor/Sentiment_Aspect\" target=\"_blank\">Weights & Biases</a> (<a href=\"https://wandb.me/run\" target=\"_blank\">docs</a>)<br/>"
      ],
      "text/plain": [
       "<IPython.core.display.HTML object>"
      ]
     },
     "metadata": {},
     "output_type": "display_data"
    },
    {
     "data": {
      "text/html": [
       "Waiting for W&B process to finish... <strong style=\"color:green\">(success).</strong>"
      ],
      "text/plain": [
       "<IPython.core.display.HTML object>"
      ]
     },
     "metadata": {},
     "output_type": "display_data"
    },
    {
     "data": {
      "application/vnd.jupyter.widget-view+json": {
       "model_id": "",
       "version_major": 2,
       "version_minor": 0
      },
      "text/plain": [
       "VBox(children=(Label(value='0.000 MB of 0.000 MB uploaded (0.000 MB deduped)\\r'), FloatProgress(value=1.0, max…"
      ]
     },
     "metadata": {},
     "output_type": "display_data"
    },
    {
     "data": {
      "text/html": [
       "<style>\n",
       "    table.wandb td:nth-child(1) { padding: 0 10px; text-align: left ; width: auto;} td:nth-child(2) {text-align: left ; width: 100%}\n",
       "    .wandb-row { display: flex; flex-direction: row; flex-wrap: wrap; justify-content: flex-start; width: 100% }\n",
       "    .wandb-col { display: flex; flex-direction: column; flex-basis: 100%; flex: 1; padding: 10px; }\n",
       "    </style>\n",
       "<div class=\"wandb-row\"><div class=\"wandb-col\"><h3>Run history:</h3><br/><table class=\"wandb\"><tr><td>eval/accuracy</td><td>▁▅▅▆▇████▇</td></tr><tr><td>eval/accuracy_Food</td><td>▁▁▁▄▃▆▆██▆</td></tr><tr><td>eval/accuracy_Interior</td><td>▃█▃▃▃▃▁▁▁▁</td></tr><tr><td>eval/accuracy_Price</td><td>▁▁▁▃▆█████</td></tr><tr><td>eval/accuracy_Service</td><td>▁▇███████▇</td></tr><tr><td>eval/accuracy_Whole</td><td>▁▅▆▆█▇████</td></tr><tr><td>eval/loss</td><td>█▅▃▂▁▁▁▁▁▁</td></tr><tr><td>train/accuracy</td><td>▂▁█▇▂▅▃▅▆▂▄▅▃▂▅▃▅▂▃▅▇▆▇▄▇▂▅▃▅▅▃▇▅▃▆▇▄▅▆▆</td></tr><tr><td>train/accuracy_Food</td><td>▆▃█▆▁▆█▆█▆▆▆█▃▆▆▆▃▁██▆███▆▃▆█▃▆▆█▁█▆▁▃██</td></tr><tr><td>train/accuracy_Interior</td><td>▃▁██▆▆▃▆▆▁▆██▁█▃▆▆▆▃▆██▆▆▁▆▁▆▆▆▆▃▃▆█▃█▆▃</td></tr><tr><td>train/accuracy_Price</td><td>▁▃████▁█▃▃▁▁▁▆▁▁█▃▃▃█▆▆▁█▆█▆▆▆▃█▆█▆█▆▆▆▆</td></tr><tr><td>train/accuracy_Service</td><td>▆▃█▆▁▆▃▁██▆▆▃▆▆█▆▁█▆█▆█▃█▃▆▆▆█▃██▆█▆█▆██</td></tr><tr><td>train/accuracy_Whole</td><td>▁▅██▁▅███▁██▁▁█▅▁█▅██████▅█▅▅█▅█▅▅▅██▅▅█</td></tr><tr><td>train/loss</td><td>▇█▂▃▇▄▅▄▂▆▃▃▄▅▄▅▃▅▅▃▂▂▂▄▁▄▄▄▂▃▄▂▃▄▂▂▃▄▂▂</td></tr></table><br/></div><div class=\"wandb-col\"><h3>Run summary:</h3><br/><table class=\"wandb\"><tr><td>eval/accuracy</td><td>0.8</td></tr><tr><td>eval/accuracy_Food</td><td>0.82143</td></tr><tr><td>eval/accuracy_Interior</td><td>0.71429</td></tr><tr><td>eval/accuracy_Price</td><td>0.82143</td></tr><tr><td>eval/accuracy_Service</td><td>0.75</td></tr><tr><td>eval/accuracy_Whole</td><td>0.89286</td></tr><tr><td>eval/loss</td><td>2.32695</td></tr><tr><td>train/accuracy</td><td>0.86667</td></tr><tr><td>train/accuracy_Food</td><td>1.0</td></tr><tr><td>train/accuracy_Interior</td><td>1.0</td></tr><tr><td>train/accuracy_Price</td><td>0.66667</td></tr><tr><td>train/accuracy_Service</td><td>0.66667</td></tr><tr><td>train/accuracy_Whole</td><td>1.0</td></tr><tr><td>train/loss</td><td>1.60789</td></tr></table><br/></div></div>"
      ],
      "text/plain": [
       "<IPython.core.display.HTML object>"
      ]
     },
     "metadata": {},
     "output_type": "display_data"
    },
    {
     "data": {
      "text/html": [
       "Synced <strong style=\"color:#cdcd00\">experiment_3</strong>: <a href=\"https://wandb.ai/julia_kor/Sentiment_Aspect/runs/2a1lp5ib\" target=\"_blank\">https://wandb.ai/julia_kor/Sentiment_Aspect/runs/2a1lp5ib</a><br/>Synced 4 W&B file(s), 0 media file(s), 0 artifact file(s) and 0 other file(s)"
      ],
      "text/plain": [
       "<IPython.core.display.HTML object>"
      ]
     },
     "metadata": {},
     "output_type": "display_data"
    },
    {
     "data": {
      "text/html": [
       "Find logs at: <code>./wandb/run-20221222_131159-2a1lp5ib/logs</code>"
      ],
      "text/plain": [
       "<IPython.core.display.HTML object>"
      ]
     },
     "metadata": {},
     "output_type": "display_data"
    }
   ],
   "source": [
    "wandb.init(\n",
    "    project=\"Sentiment_Aspect\",\n",
    "    name=f\"experiment_{3}\",\n",
    "    )\n",
    "\n",
    "for epoch in range(EPOCHS):\n",
    "    train_epoch(\n",
    "        model, \n",
    "        train_data_loader, \n",
    "        optimizer, \n",
    "        device, \n",
    "        scheduler, \n",
    "        )\n",
    "    eval_model(model, val_data_loader, device)\n",
    "    # torch.save(model, f\"checkpoints/roberta_sent_{epoch}\")\n",
    "\n",
    "wandb.finish()"
   ]
  },
  {
   "cell_type": "code",
   "execution_count": 19,
   "metadata": {},
   "outputs": [],
   "source": [
    "torch.save(model, \"model_cat.pt\")"
   ]
  },
  {
   "cell_type": "markdown",
   "metadata": {},
   "source": [
    "# Inference"
   ]
  },
  {
   "cell_type": "code",
   "execution_count": 20,
   "metadata": {
    "executionInfo": {
     "elapsed": 34,
     "status": "ok",
     "timestamp": 1671533756845,
     "user": {
      "displayName": "Юлия Короткова",
      "userId": "07771836480209080958"
     },
     "user_tz": -180
    },
    "id": "263jqvijcsfF"
   },
   "outputs": [],
   "source": [
    "labels = [\"absence\", \"positive\", \"negative\", \"both\", \"neutral\"]\n",
    "\n",
    "def inference(tokenizer, model, text):\n",
    "    encoding = tokenizer.encode_plus(\n",
    "          text,\n",
    "          add_special_tokens=True,\n",
    "          max_length=MAX_LEN,\n",
    "          return_token_type_ids=False,\n",
    "          padding='max_length',\n",
    "          truncation=True,\n",
    "          return_attention_mask=True,\n",
    "          return_tensors='pt',\n",
    "        )\n",
    "    model = model.eval()\n",
    "    with torch.no_grad():\n",
    "        pred = model(encoding)\n",
    "    _, Food = torch.max(pred[\"Food\"], dim=1)\n",
    "    _, Interior = torch.max(pred[\"Interior\"], dim=1)\n",
    "    _, Price = torch.max(pred[\"Price\"], dim=1)\n",
    "    _, Whole = torch.max(pred[\"Whole\"], dim=1)\n",
    "    _, Service = torch.max(pred[\"Service\"], dim=1)\n",
    "    return {\n",
    "            \"Food\": labels[Food.item()], \n",
    "            \"Interior\": labels[Interior.item()], \n",
    "            \"Price\": labels[Price.item()], \n",
    "            \"Whole\": labels[Whole.item()], \n",
    "            \"Service\": labels[Service.item()],\n",
    "    }"
   ]
  },
  {
   "cell_type": "code",
   "execution_count": 21,
   "metadata": {
    "executionInfo": {
     "elapsed": 3642,
     "status": "ok",
     "timestamp": 1671533838069,
     "user": {
      "displayName": "Юлия Короткова",
      "userId": "07771836480209080958"
     },
     "user_tz": -180
    },
    "id": "R42ZWTtViS0G"
   },
   "outputs": [],
   "source": [
    "with open(\"data/dev_pred_cats.txt\", \"w\", encoding=\"utf-8\") as file_write:\n",
    "    with open(\"data/dev_reviews.txt\", encoding=\"utf-8\") as file_read:\n",
    "        for line in file_read:\n",
    "            line = line[:-1]\n",
    "            idx, text = line.split(\"\\t\")\n",
    "            pred = inference(tokenizer, model, text)\n",
    "            for cat in pred:\n",
    "                file_write.write(f\"{idx}\\t{cat}\\t{pred[cat]}\\n\")"
   ]
  },
  {
   "cell_type": "code",
   "execution_count": null,
   "metadata": {
    "id": "aNsnpmxYmz5i"
   },
   "outputs": [],
   "source": []
  }
 ],
 "metadata": {
  "accelerator": "GPU",
  "colab": {
   "authorship_tag": "ABX9TyMDDKkSQ+3rh6jzheCLtPYm",
   "provenance": []
  },
  "gpuClass": "standard",
  "kernelspec": {
   "display_name": "Python 3",
   "language": "python",
   "name": "python3"
  },
  "language_info": {
   "codemirror_mode": {
    "name": "ipython",
    "version": 3
   },
   "file_extension": ".py",
   "mimetype": "text/x-python",
   "name": "python",
   "nbconvert_exporter": "python",
   "pygments_lexer": "ipython3",
   "version": "3.8.5 (tags/v3.8.5:580fbb0, Jul 20 2020, 15:57:54) [MSC v.1924 64 bit (AMD64)]"
  },
  "vscode": {
   "interpreter": {
    "hash": "5d609abd5eba44aca7977447e03e2165417dba7727add115454fdf20fd0ac4b1"
   }
  },
  "widgets": {
   "application/vnd.jupyter.widget-state+json": {
    "0652a5f2eab94198a9e14e0c2e13f273": {
     "model_module": "@jupyter-widgets/base",
     "model_module_version": "1.2.0",
     "model_name": "LayoutModel",
     "state": {
      "_model_module": "@jupyter-widgets/base",
      "_model_module_version": "1.2.0",
      "_model_name": "LayoutModel",
      "_view_count": null,
      "_view_module": "@jupyter-widgets/base",
      "_view_module_version": "1.2.0",
      "_view_name": "LayoutView",
      "align_content": null,
      "align_items": null,
      "align_self": null,
      "border": null,
      "bottom": null,
      "display": null,
      "flex": null,
      "flex_flow": null,
      "grid_area": null,
      "grid_auto_columns": null,
      "grid_auto_flow": null,
      "grid_auto_rows": null,
      "grid_column": null,
      "grid_gap": null,
      "grid_row": null,
      "grid_template_areas": null,
      "grid_template_columns": null,
      "grid_template_rows": null,
      "height": null,
      "justify_content": null,
      "justify_items": null,
      "left": null,
      "margin": null,
      "max_height": null,
      "max_width": null,
      "min_height": null,
      "min_width": null,
      "object_fit": null,
      "object_position": null,
      "order": null,
      "overflow": null,
      "overflow_x": null,
      "overflow_y": null,
      "padding": null,
      "right": null,
      "top": null,
      "visibility": null,
      "width": null
     }
    },
    "09650dcd132542f49f456e434838d007": {
     "model_module": "@jupyter-widgets/controls",
     "model_module_version": "1.5.0",
     "model_name": "DescriptionStyleModel",
     "state": {
      "_model_module": "@jupyter-widgets/controls",
      "_model_module_version": "1.5.0",
      "_model_name": "DescriptionStyleModel",
      "_view_count": null,
      "_view_module": "@jupyter-widgets/base",
      "_view_module_version": "1.2.0",
      "_view_name": "StyleView",
      "description_width": ""
     }
    },
    "09cdae9950dd469aa32a9deca72c6566": {
     "model_module": "@jupyter-widgets/controls",
     "model_module_version": "1.5.0",
     "model_name": "FloatProgressModel",
     "state": {
      "_dom_classes": [],
      "_model_module": "@jupyter-widgets/controls",
      "_model_module_version": "1.5.0",
      "_model_name": "FloatProgressModel",
      "_view_count": null,
      "_view_module": "@jupyter-widgets/controls",
      "_view_module_version": "1.5.0",
      "_view_name": "ProgressView",
      "bar_style": "success",
      "description": "",
      "description_tooltip": null,
      "layout": "IPY_MODEL_18a54c3cc87e44f99bc7b9144a58ad0e",
      "max": 1421754926,
      "min": 0,
      "orientation": "horizontal",
      "style": "IPY_MODEL_d379c801ef7740299220847c785984ff",
      "value": 1421754926
     }
    },
    "0dab22706f8341d9a21198fc2592638b": {
     "model_module": "@jupyter-widgets/base",
     "model_module_version": "1.2.0",
     "model_name": "LayoutModel",
     "state": {
      "_model_module": "@jupyter-widgets/base",
      "_model_module_version": "1.2.0",
      "_model_name": "LayoutModel",
      "_view_count": null,
      "_view_module": "@jupyter-widgets/base",
      "_view_module_version": "1.2.0",
      "_view_name": "LayoutView",
      "align_content": null,
      "align_items": null,
      "align_self": null,
      "border": null,
      "bottom": null,
      "display": null,
      "flex": null,
      "flex_flow": null,
      "grid_area": null,
      "grid_auto_columns": null,
      "grid_auto_flow": null,
      "grid_auto_rows": null,
      "grid_column": null,
      "grid_gap": null,
      "grid_row": null,
      "grid_template_areas": null,
      "grid_template_columns": null,
      "grid_template_rows": null,
      "height": null,
      "justify_content": null,
      "justify_items": null,
      "left": null,
      "margin": null,
      "max_height": null,
      "max_width": null,
      "min_height": null,
      "min_width": null,
      "object_fit": null,
      "object_position": null,
      "order": null,
      "overflow": null,
      "overflow_x": null,
      "overflow_y": null,
      "padding": null,
      "right": null,
      "top": null,
      "visibility": null,
      "width": null
     }
    },
    "0ead35c1dd8c435dae7e6b29f38fac4a": {
     "model_module": "@jupyter-widgets/controls",
     "model_module_version": "1.5.0",
     "model_name": "DescriptionStyleModel",
     "state": {
      "_model_module": "@jupyter-widgets/controls",
      "_model_module_version": "1.5.0",
      "_model_name": "DescriptionStyleModel",
      "_view_count": null,
      "_view_module": "@jupyter-widgets/base",
      "_view_module_version": "1.2.0",
      "_view_name": "StyleView",
      "description_width": ""
     }
    },
    "0f9b81a847ec4b73be7db607bda781d7": {
     "model_module": "@jupyter-widgets/controls",
     "model_module_version": "1.5.0",
     "model_name": "DescriptionStyleModel",
     "state": {
      "_model_module": "@jupyter-widgets/controls",
      "_model_module_version": "1.5.0",
      "_model_name": "DescriptionStyleModel",
      "_view_count": null,
      "_view_module": "@jupyter-widgets/base",
      "_view_module_version": "1.2.0",
      "_view_name": "StyleView",
      "description_width": ""
     }
    },
    "18a54c3cc87e44f99bc7b9144a58ad0e": {
     "model_module": "@jupyter-widgets/base",
     "model_module_version": "1.2.0",
     "model_name": "LayoutModel",
     "state": {
      "_model_module": "@jupyter-widgets/base",
      "_model_module_version": "1.2.0",
      "_model_name": "LayoutModel",
      "_view_count": null,
      "_view_module": "@jupyter-widgets/base",
      "_view_module_version": "1.2.0",
      "_view_name": "LayoutView",
      "align_content": null,
      "align_items": null,
      "align_self": null,
      "border": null,
      "bottom": null,
      "display": null,
      "flex": null,
      "flex_flow": null,
      "grid_area": null,
      "grid_auto_columns": null,
      "grid_auto_flow": null,
      "grid_auto_rows": null,
      "grid_column": null,
      "grid_gap": null,
      "grid_row": null,
      "grid_template_areas": null,
      "grid_template_columns": null,
      "grid_template_rows": null,
      "height": null,
      "justify_content": null,
      "justify_items": null,
      "left": null,
      "margin": null,
      "max_height": null,
      "max_width": null,
      "min_height": null,
      "min_width": null,
      "object_fit": null,
      "object_position": null,
      "order": null,
      "overflow": null,
      "overflow_x": null,
      "overflow_y": null,
      "padding": null,
      "right": null,
      "top": null,
      "visibility": null,
      "width": null
     }
    },
    "199e7bf3c6a7498ab2aa32e3625cc658": {
     "model_module": "@jupyter-widgets/controls",
     "model_module_version": "1.5.0",
     "model_name": "HTMLModel",
     "state": {
      "_dom_classes": [],
      "_model_module": "@jupyter-widgets/controls",
      "_model_module_version": "1.5.0",
      "_model_name": "HTMLModel",
      "_view_count": null,
      "_view_module": "@jupyter-widgets/controls",
      "_view_module_version": "1.5.0",
      "_view_name": "HTMLView",
      "description": "",
      "description_tooltip": null,
      "layout": "IPY_MODEL_6f256f1e02ec4b97818976046694d2ea",
      "placeholder": "​",
      "style": "IPY_MODEL_fa94bab3f09c49dfb0b4426f34099c76",
      "value": " 674/674 [00:00&lt;00:00, 35.1kB/s]"
     }
    },
    "1a58542038eb41158854548b39b6672c": {
     "model_module": "@jupyter-widgets/controls",
     "model_module_version": "1.5.0",
     "model_name": "HBoxModel",
     "state": {
      "_dom_classes": [],
      "_model_module": "@jupyter-widgets/controls",
      "_model_module_version": "1.5.0",
      "_model_name": "HBoxModel",
      "_view_count": null,
      "_view_module": "@jupyter-widgets/controls",
      "_view_module_version": "1.5.0",
      "_view_name": "HBoxView",
      "box_style": "",
      "children": [
       "IPY_MODEL_fa758666ee22400e803b91149f02044f",
       "IPY_MODEL_dd633ef9832542e89f5c21d1e96e5213",
       "IPY_MODEL_199e7bf3c6a7498ab2aa32e3625cc658"
      ],
      "layout": "IPY_MODEL_42db5f9fc41f430382a336729b701676"
     }
    },
    "1c5f1d1416804f9cabf6e60ce9761867": {
     "model_module": "@jupyter-widgets/controls",
     "model_module_version": "1.5.0",
     "model_name": "ProgressStyleModel",
     "state": {
      "_model_module": "@jupyter-widgets/controls",
      "_model_module_version": "1.5.0",
      "_model_name": "ProgressStyleModel",
      "_view_count": null,
      "_view_module": "@jupyter-widgets/base",
      "_view_module_version": "1.2.0",
      "_view_name": "StyleView",
      "bar_color": null,
      "description_width": ""
     }
    },
    "334ff387c0b6464799d94d382f140903": {
     "model_module": "@jupyter-widgets/controls",
     "model_module_version": "1.5.0",
     "model_name": "DescriptionStyleModel",
     "state": {
      "_model_module": "@jupyter-widgets/controls",
      "_model_module_version": "1.5.0",
      "_model_name": "DescriptionStyleModel",
      "_view_count": null,
      "_view_module": "@jupyter-widgets/base",
      "_view_module_version": "1.2.0",
      "_view_name": "StyleView",
      "description_width": ""
     }
    },
    "39ccd61f82244660b894a6e4da77adbf": {
     "model_module": "@jupyter-widgets/controls",
     "model_module_version": "1.5.0",
     "model_name": "ProgressStyleModel",
     "state": {
      "_model_module": "@jupyter-widgets/controls",
      "_model_module_version": "1.5.0",
      "_model_name": "ProgressStyleModel",
      "_view_count": null,
      "_view_module": "@jupyter-widgets/base",
      "_view_module_version": "1.2.0",
      "_view_name": "StyleView",
      "bar_color": null,
      "description_width": ""
     }
    },
    "3c2800d715e14ce3bc121acf8cb7dbaa": {
     "model_module": "@jupyter-widgets/controls",
     "model_module_version": "1.5.0",
     "model_name": "HTMLModel",
     "state": {
      "_dom_classes": [],
      "_model_module": "@jupyter-widgets/controls",
      "_model_module_version": "1.5.0",
      "_model_name": "HTMLModel",
      "_view_count": null,
      "_view_module": "@jupyter-widgets/controls",
      "_view_module_version": "1.5.0",
      "_view_name": "HTMLView",
      "description": "",
      "description_tooltip": null,
      "layout": "IPY_MODEL_79dd4b95b07d42c296383f6aa902f848",
      "placeholder": "​",
      "style": "IPY_MODEL_0f9b81a847ec4b73be7db607bda781d7",
      "value": "Downloading: 100%"
     }
    },
    "42db5f9fc41f430382a336729b701676": {
     "model_module": "@jupyter-widgets/base",
     "model_module_version": "1.2.0",
     "model_name": "LayoutModel",
     "state": {
      "_model_module": "@jupyter-widgets/base",
      "_model_module_version": "1.2.0",
      "_model_name": "LayoutModel",
      "_view_count": null,
      "_view_module": "@jupyter-widgets/base",
      "_view_module_version": "1.2.0",
      "_view_name": "LayoutView",
      "align_content": null,
      "align_items": null,
      "align_self": null,
      "border": null,
      "bottom": null,
      "display": null,
      "flex": null,
      "flex_flow": null,
      "grid_area": null,
      "grid_auto_columns": null,
      "grid_auto_flow": null,
      "grid_auto_rows": null,
      "grid_column": null,
      "grid_gap": null,
      "grid_row": null,
      "grid_template_areas": null,
      "grid_template_columns": null,
      "grid_template_rows": null,
      "height": null,
      "justify_content": null,
      "justify_items": null,
      "left": null,
      "margin": null,
      "max_height": null,
      "max_width": null,
      "min_height": null,
      "min_width": null,
      "object_fit": null,
      "object_position": null,
      "order": null,
      "overflow": null,
      "overflow_x": null,
      "overflow_y": null,
      "padding": null,
      "right": null,
      "top": null,
      "visibility": null,
      "width": null
     }
    },
    "43c3b1e644744826a5774066e4de8fae": {
     "model_module": "@jupyter-widgets/base",
     "model_module_version": "1.2.0",
     "model_name": "LayoutModel",
     "state": {
      "_model_module": "@jupyter-widgets/base",
      "_model_module_version": "1.2.0",
      "_model_name": "LayoutModel",
      "_view_count": null,
      "_view_module": "@jupyter-widgets/base",
      "_view_module_version": "1.2.0",
      "_view_name": "LayoutView",
      "align_content": null,
      "align_items": null,
      "align_self": null,
      "border": null,
      "bottom": null,
      "display": null,
      "flex": null,
      "flex_flow": null,
      "grid_area": null,
      "grid_auto_columns": null,
      "grid_auto_flow": null,
      "grid_auto_rows": null,
      "grid_column": null,
      "grid_gap": null,
      "grid_row": null,
      "grid_template_areas": null,
      "grid_template_columns": null,
      "grid_template_rows": null,
      "height": null,
      "justify_content": null,
      "justify_items": null,
      "left": null,
      "margin": null,
      "max_height": null,
      "max_width": null,
      "min_height": null,
      "min_width": null,
      "object_fit": null,
      "object_position": null,
      "order": null,
      "overflow": null,
      "overflow_x": null,
      "overflow_y": null,
      "padding": null,
      "right": null,
      "top": null,
      "visibility": null,
      "width": null
     }
    },
    "44a958c4e92d4dea9c6ddfc2df72c2fe": {
     "model_module": "@jupyter-widgets/controls",
     "model_module_version": "1.5.0",
     "model_name": "ProgressStyleModel",
     "state": {
      "_model_module": "@jupyter-widgets/controls",
      "_model_module_version": "1.5.0",
      "_model_name": "ProgressStyleModel",
      "_view_count": null,
      "_view_module": "@jupyter-widgets/base",
      "_view_module_version": "1.2.0",
      "_view_name": "StyleView",
      "bar_color": null,
      "description_width": ""
     }
    },
    "46cfaae5d24e48db906e5fba88acde9c": {
     "model_module": "@jupyter-widgets/controls",
     "model_module_version": "1.5.0",
     "model_name": "HBoxModel",
     "state": {
      "_dom_classes": [],
      "_model_module": "@jupyter-widgets/controls",
      "_model_module_version": "1.5.0",
      "_model_name": "HBoxModel",
      "_view_count": null,
      "_view_module": "@jupyter-widgets/controls",
      "_view_module_version": "1.5.0",
      "_view_name": "HBoxView",
      "box_style": "",
      "children": [
       "IPY_MODEL_e853c89d46ab4d1ba8811bb6b28a084c",
       "IPY_MODEL_8ec08ad1214e449ebd18435eec8b1f77",
       "IPY_MODEL_691ac24dd17c4134818d3c36c425dcd1"
      ],
      "layout": "IPY_MODEL_e6cbb6ac0dc94357bdb2dbedbe3723e1"
     }
    },
    "503c73f8e48b478d9645588e079b1f42": {
     "model_module": "@jupyter-widgets/controls",
     "model_module_version": "1.5.0",
     "model_name": "HTMLModel",
     "state": {
      "_dom_classes": [],
      "_model_module": "@jupyter-widgets/controls",
      "_model_module_version": "1.5.0",
      "_model_name": "HTMLModel",
      "_view_count": null,
      "_view_module": "@jupyter-widgets/controls",
      "_view_module_version": "1.5.0",
      "_view_name": "HTMLView",
      "description": "",
      "description_tooltip": null,
      "layout": "IPY_MODEL_0dab22706f8341d9a21198fc2592638b",
      "placeholder": "​",
      "style": "IPY_MODEL_0ead35c1dd8c435dae7e6b29f38fac4a",
      "value": " 1.81M/1.81M [00:00&lt;00:00, 18.0MB/s]"
     }
    },
    "5d9df3b845ef4f74b1ebbae1e8783b27": {
     "model_module": "@jupyter-widgets/base",
     "model_module_version": "1.2.0",
     "model_name": "LayoutModel",
     "state": {
      "_model_module": "@jupyter-widgets/base",
      "_model_module_version": "1.2.0",
      "_model_name": "LayoutModel",
      "_view_count": null,
      "_view_module": "@jupyter-widgets/base",
      "_view_module_version": "1.2.0",
      "_view_name": "LayoutView",
      "align_content": null,
      "align_items": null,
      "align_self": null,
      "border": null,
      "bottom": null,
      "display": null,
      "flex": null,
      "flex_flow": null,
      "grid_area": null,
      "grid_auto_columns": null,
      "grid_auto_flow": null,
      "grid_auto_rows": null,
      "grid_column": null,
      "grid_gap": null,
      "grid_row": null,
      "grid_template_areas": null,
      "grid_template_columns": null,
      "grid_template_rows": null,
      "height": null,
      "justify_content": null,
      "justify_items": null,
      "left": null,
      "margin": null,
      "max_height": null,
      "max_width": null,
      "min_height": null,
      "min_width": null,
      "object_fit": null,
      "object_position": null,
      "order": null,
      "overflow": null,
      "overflow_x": null,
      "overflow_y": null,
      "padding": null,
      "right": null,
      "top": null,
      "visibility": null,
      "width": null
     }
    },
    "66d4475519ad4b6984d7d69d44d639e9": {
     "model_module": "@jupyter-widgets/base",
     "model_module_version": "1.2.0",
     "model_name": "LayoutModel",
     "state": {
      "_model_module": "@jupyter-widgets/base",
      "_model_module_version": "1.2.0",
      "_model_name": "LayoutModel",
      "_view_count": null,
      "_view_module": "@jupyter-widgets/base",
      "_view_module_version": "1.2.0",
      "_view_name": "LayoutView",
      "align_content": null,
      "align_items": null,
      "align_self": null,
      "border": null,
      "bottom": null,
      "display": null,
      "flex": null,
      "flex_flow": null,
      "grid_area": null,
      "grid_auto_columns": null,
      "grid_auto_flow": null,
      "grid_auto_rows": null,
      "grid_column": null,
      "grid_gap": null,
      "grid_row": null,
      "grid_template_areas": null,
      "grid_template_columns": null,
      "grid_template_rows": null,
      "height": null,
      "justify_content": null,
      "justify_items": null,
      "left": null,
      "margin": null,
      "max_height": null,
      "max_width": null,
      "min_height": null,
      "min_width": null,
      "object_fit": null,
      "object_position": null,
      "order": null,
      "overflow": null,
      "overflow_x": null,
      "overflow_y": null,
      "padding": null,
      "right": null,
      "top": null,
      "visibility": null,
      "width": null
     }
    },
    "676411ea0b824be8960ca6262f7dfae5": {
     "model_module": "@jupyter-widgets/controls",
     "model_module_version": "1.5.0",
     "model_name": "HTMLModel",
     "state": {
      "_dom_classes": [],
      "_model_module": "@jupyter-widgets/controls",
      "_model_module_version": "1.5.0",
      "_model_name": "HTMLModel",
      "_view_count": null,
      "_view_module": "@jupyter-widgets/controls",
      "_view_module_version": "1.5.0",
      "_view_name": "HTMLView",
      "description": "",
      "description_tooltip": null,
      "layout": "IPY_MODEL_9bb441062c6244b694d0337ca9578686",
      "placeholder": "​",
      "style": "IPY_MODEL_09650dcd132542f49f456e434838d007",
      "value": " 1.42G/1.42G [00:23&lt;00:00, 63.9MB/s]"
     }
    },
    "691ac24dd17c4134818d3c36c425dcd1": {
     "model_module": "@jupyter-widgets/controls",
     "model_module_version": "1.5.0",
     "model_name": "HTMLModel",
     "state": {
      "_dom_classes": [],
      "_model_module": "@jupyter-widgets/controls",
      "_model_module_version": "1.5.0",
      "_model_name": "HTMLModel",
      "_view_count": null,
      "_view_module": "@jupyter-widgets/controls",
      "_view_module_version": "1.5.0",
      "_view_name": "HTMLView",
      "description": "",
      "description_tooltip": null,
      "layout": "IPY_MODEL_5d9df3b845ef4f74b1ebbae1e8783b27",
      "placeholder": "​",
      "style": "IPY_MODEL_f129ef34fb5649e293987a8b1c9dad87",
      "value": " 1.37M/1.37M [00:00&lt;00:00, 14.9MB/s]"
     }
    },
    "6a21e9d10f78476e971fe18405a779d5": {
     "model_module": "@jupyter-widgets/controls",
     "model_module_version": "1.5.0",
     "model_name": "HTMLModel",
     "state": {
      "_dom_classes": [],
      "_model_module": "@jupyter-widgets/controls",
      "_model_module_version": "1.5.0",
      "_model_name": "HTMLModel",
      "_view_count": null,
      "_view_module": "@jupyter-widgets/controls",
      "_view_module_version": "1.5.0",
      "_view_name": "HTMLView",
      "description": "",
      "description_tooltip": null,
      "layout": "IPY_MODEL_fa8bc98d33764b2486801a3071f72f3e",
      "placeholder": "​",
      "style": "IPY_MODEL_e71e28e4a1224d6eab4301229adee9a4",
      "value": "Downloading: 100%"
     }
    },
    "6f256f1e02ec4b97818976046694d2ea": {
     "model_module": "@jupyter-widgets/base",
     "model_module_version": "1.2.0",
     "model_name": "LayoutModel",
     "state": {
      "_model_module": "@jupyter-widgets/base",
      "_model_module_version": "1.2.0",
      "_model_name": "LayoutModel",
      "_view_count": null,
      "_view_module": "@jupyter-widgets/base",
      "_view_module_version": "1.2.0",
      "_view_name": "LayoutView",
      "align_content": null,
      "align_items": null,
      "align_self": null,
      "border": null,
      "bottom": null,
      "display": null,
      "flex": null,
      "flex_flow": null,
      "grid_area": null,
      "grid_auto_columns": null,
      "grid_auto_flow": null,
      "grid_auto_rows": null,
      "grid_column": null,
      "grid_gap": null,
      "grid_row": null,
      "grid_template_areas": null,
      "grid_template_columns": null,
      "grid_template_rows": null,
      "height": null,
      "justify_content": null,
      "justify_items": null,
      "left": null,
      "margin": null,
      "max_height": null,
      "max_width": null,
      "min_height": null,
      "min_width": null,
      "object_fit": null,
      "object_position": null,
      "order": null,
      "overflow": null,
      "overflow_x": null,
      "overflow_y": null,
      "padding": null,
      "right": null,
      "top": null,
      "visibility": null,
      "width": null
     }
    },
    "79dd4b95b07d42c296383f6aa902f848": {
     "model_module": "@jupyter-widgets/base",
     "model_module_version": "1.2.0",
     "model_name": "LayoutModel",
     "state": {
      "_model_module": "@jupyter-widgets/base",
      "_model_module_version": "1.2.0",
      "_model_name": "LayoutModel",
      "_view_count": null,
      "_view_module": "@jupyter-widgets/base",
      "_view_module_version": "1.2.0",
      "_view_name": "LayoutView",
      "align_content": null,
      "align_items": null,
      "align_self": null,
      "border": null,
      "bottom": null,
      "display": null,
      "flex": null,
      "flex_flow": null,
      "grid_area": null,
      "grid_auto_columns": null,
      "grid_auto_flow": null,
      "grid_auto_rows": null,
      "grid_column": null,
      "grid_gap": null,
      "grid_row": null,
      "grid_template_areas": null,
      "grid_template_columns": null,
      "grid_template_rows": null,
      "height": null,
      "justify_content": null,
      "justify_items": null,
      "left": null,
      "margin": null,
      "max_height": null,
      "max_width": null,
      "min_height": null,
      "min_width": null,
      "object_fit": null,
      "object_position": null,
      "order": null,
      "overflow": null,
      "overflow_x": null,
      "overflow_y": null,
      "padding": null,
      "right": null,
      "top": null,
      "visibility": null,
      "width": null
     }
    },
    "8a3c6ff1b07d49a39cff5abe25f9f5c4": {
     "model_module": "@jupyter-widgets/controls",
     "model_module_version": "1.5.0",
     "model_name": "FloatProgressModel",
     "state": {
      "_dom_classes": [],
      "_model_module": "@jupyter-widgets/controls",
      "_model_module_version": "1.5.0",
      "_model_name": "FloatProgressModel",
      "_view_count": null,
      "_view_module": "@jupyter-widgets/controls",
      "_view_module_version": "1.5.0",
      "_view_name": "ProgressView",
      "bar_style": "success",
      "description": "",
      "description_tooltip": null,
      "layout": "IPY_MODEL_c7a6d490dc2d47cfba989308c232bc76",
      "max": 1811625,
      "min": 0,
      "orientation": "horizontal",
      "style": "IPY_MODEL_39ccd61f82244660b894a6e4da77adbf",
      "value": 1811625
     }
    },
    "8ec08ad1214e449ebd18435eec8b1f77": {
     "model_module": "@jupyter-widgets/controls",
     "model_module_version": "1.5.0",
     "model_name": "FloatProgressModel",
     "state": {
      "_dom_classes": [],
      "_model_module": "@jupyter-widgets/controls",
      "_model_module_version": "1.5.0",
      "_model_name": "FloatProgressModel",
      "_view_count": null,
      "_view_module": "@jupyter-widgets/controls",
      "_view_module_version": "1.5.0",
      "_view_name": "ProgressView",
      "bar_style": "success",
      "description": "",
      "description_tooltip": null,
      "layout": "IPY_MODEL_66d4475519ad4b6984d7d69d44d639e9",
      "max": 1369443,
      "min": 0,
      "orientation": "horizontal",
      "style": "IPY_MODEL_44a958c4e92d4dea9c6ddfc2df72c2fe",
      "value": 1369443
     }
    },
    "9bb441062c6244b694d0337ca9578686": {
     "model_module": "@jupyter-widgets/base",
     "model_module_version": "1.2.0",
     "model_name": "LayoutModel",
     "state": {
      "_model_module": "@jupyter-widgets/base",
      "_model_module_version": "1.2.0",
      "_model_name": "LayoutModel",
      "_view_count": null,
      "_view_module": "@jupyter-widgets/base",
      "_view_module_version": "1.2.0",
      "_view_name": "LayoutView",
      "align_content": null,
      "align_items": null,
      "align_self": null,
      "border": null,
      "bottom": null,
      "display": null,
      "flex": null,
      "flex_flow": null,
      "grid_area": null,
      "grid_auto_columns": null,
      "grid_auto_flow": null,
      "grid_auto_rows": null,
      "grid_column": null,
      "grid_gap": null,
      "grid_row": null,
      "grid_template_areas": null,
      "grid_template_columns": null,
      "grid_template_rows": null,
      "height": null,
      "justify_content": null,
      "justify_items": null,
      "left": null,
      "margin": null,
      "max_height": null,
      "max_width": null,
      "min_height": null,
      "min_width": null,
      "object_fit": null,
      "object_position": null,
      "order": null,
      "overflow": null,
      "overflow_x": null,
      "overflow_y": null,
      "padding": null,
      "right": null,
      "top": null,
      "visibility": null,
      "width": null
     }
    },
    "af60c455df804694b11057659c28b27a": {
     "model_module": "@jupyter-widgets/base",
     "model_module_version": "1.2.0",
     "model_name": "LayoutModel",
     "state": {
      "_model_module": "@jupyter-widgets/base",
      "_model_module_version": "1.2.0",
      "_model_name": "LayoutModel",
      "_view_count": null,
      "_view_module": "@jupyter-widgets/base",
      "_view_module_version": "1.2.0",
      "_view_name": "LayoutView",
      "align_content": null,
      "align_items": null,
      "align_self": null,
      "border": null,
      "bottom": null,
      "display": null,
      "flex": null,
      "flex_flow": null,
      "grid_area": null,
      "grid_auto_columns": null,
      "grid_auto_flow": null,
      "grid_auto_rows": null,
      "grid_column": null,
      "grid_gap": null,
      "grid_row": null,
      "grid_template_areas": null,
      "grid_template_columns": null,
      "grid_template_rows": null,
      "height": null,
      "justify_content": null,
      "justify_items": null,
      "left": null,
      "margin": null,
      "max_height": null,
      "max_width": null,
      "min_height": null,
      "min_width": null,
      "object_fit": null,
      "object_position": null,
      "order": null,
      "overflow": null,
      "overflow_x": null,
      "overflow_y": null,
      "padding": null,
      "right": null,
      "top": null,
      "visibility": null,
      "width": null
     }
    },
    "b36788b0509149ff93505293af140eac": {
     "model_module": "@jupyter-widgets/controls",
     "model_module_version": "1.5.0",
     "model_name": "HBoxModel",
     "state": {
      "_dom_classes": [],
      "_model_module": "@jupyter-widgets/controls",
      "_model_module_version": "1.5.0",
      "_model_name": "HBoxModel",
      "_view_count": null,
      "_view_module": "@jupyter-widgets/controls",
      "_view_module_version": "1.5.0",
      "_view_name": "HBoxView",
      "box_style": "",
      "children": [
       "IPY_MODEL_3c2800d715e14ce3bc121acf8cb7dbaa",
       "IPY_MODEL_8a3c6ff1b07d49a39cff5abe25f9f5c4",
       "IPY_MODEL_503c73f8e48b478d9645588e079b1f42"
      ],
      "layout": "IPY_MODEL_43c3b1e644744826a5774066e4de8fae"
     }
    },
    "c7a6d490dc2d47cfba989308c232bc76": {
     "model_module": "@jupyter-widgets/base",
     "model_module_version": "1.2.0",
     "model_name": "LayoutModel",
     "state": {
      "_model_module": "@jupyter-widgets/base",
      "_model_module_version": "1.2.0",
      "_model_name": "LayoutModel",
      "_view_count": null,
      "_view_module": "@jupyter-widgets/base",
      "_view_module_version": "1.2.0",
      "_view_name": "LayoutView",
      "align_content": null,
      "align_items": null,
      "align_self": null,
      "border": null,
      "bottom": null,
      "display": null,
      "flex": null,
      "flex_flow": null,
      "grid_area": null,
      "grid_auto_columns": null,
      "grid_auto_flow": null,
      "grid_auto_rows": null,
      "grid_column": null,
      "grid_gap": null,
      "grid_row": null,
      "grid_template_areas": null,
      "grid_template_columns": null,
      "grid_template_rows": null,
      "height": null,
      "justify_content": null,
      "justify_items": null,
      "left": null,
      "margin": null,
      "max_height": null,
      "max_width": null,
      "min_height": null,
      "min_width": null,
      "object_fit": null,
      "object_position": null,
      "order": null,
      "overflow": null,
      "overflow_x": null,
      "overflow_y": null,
      "padding": null,
      "right": null,
      "top": null,
      "visibility": null,
      "width": null
     }
    },
    "c9d24b623de74350a7f278f4c80196a0": {
     "model_module": "@jupyter-widgets/base",
     "model_module_version": "1.2.0",
     "model_name": "LayoutModel",
     "state": {
      "_model_module": "@jupyter-widgets/base",
      "_model_module_version": "1.2.0",
      "_model_name": "LayoutModel",
      "_view_count": null,
      "_view_module": "@jupyter-widgets/base",
      "_view_module_version": "1.2.0",
      "_view_name": "LayoutView",
      "align_content": null,
      "align_items": null,
      "align_self": null,
      "border": null,
      "bottom": null,
      "display": null,
      "flex": null,
      "flex_flow": null,
      "grid_area": null,
      "grid_auto_columns": null,
      "grid_auto_flow": null,
      "grid_auto_rows": null,
      "grid_column": null,
      "grid_gap": null,
      "grid_row": null,
      "grid_template_areas": null,
      "grid_template_columns": null,
      "grid_template_rows": null,
      "height": null,
      "justify_content": null,
      "justify_items": null,
      "left": null,
      "margin": null,
      "max_height": null,
      "max_width": null,
      "min_height": null,
      "min_width": null,
      "object_fit": null,
      "object_position": null,
      "order": null,
      "overflow": null,
      "overflow_x": null,
      "overflow_y": null,
      "padding": null,
      "right": null,
      "top": null,
      "visibility": null,
      "width": null
     }
    },
    "d379c801ef7740299220847c785984ff": {
     "model_module": "@jupyter-widgets/controls",
     "model_module_version": "1.5.0",
     "model_name": "ProgressStyleModel",
     "state": {
      "_model_module": "@jupyter-widgets/controls",
      "_model_module_version": "1.5.0",
      "_model_name": "ProgressStyleModel",
      "_view_count": null,
      "_view_module": "@jupyter-widgets/base",
      "_view_module_version": "1.2.0",
      "_view_name": "StyleView",
      "bar_color": null,
      "description_width": ""
     }
    },
    "dd633ef9832542e89f5c21d1e96e5213": {
     "model_module": "@jupyter-widgets/controls",
     "model_module_version": "1.5.0",
     "model_name": "FloatProgressModel",
     "state": {
      "_dom_classes": [],
      "_model_module": "@jupyter-widgets/controls",
      "_model_module_version": "1.5.0",
      "_model_name": "FloatProgressModel",
      "_view_count": null,
      "_view_module": "@jupyter-widgets/controls",
      "_view_module_version": "1.5.0",
      "_view_name": "ProgressView",
      "bar_style": "success",
      "description": "",
      "description_tooltip": null,
      "layout": "IPY_MODEL_0652a5f2eab94198a9e14e0c2e13f273",
      "max": 674,
      "min": 0,
      "orientation": "horizontal",
      "style": "IPY_MODEL_1c5f1d1416804f9cabf6e60ce9761867",
      "value": 674
     }
    },
    "dfaf3d5cae4b41ee8dd776c9470ad6c5": {
     "model_module": "@jupyter-widgets/base",
     "model_module_version": "1.2.0",
     "model_name": "LayoutModel",
     "state": {
      "_model_module": "@jupyter-widgets/base",
      "_model_module_version": "1.2.0",
      "_model_name": "LayoutModel",
      "_view_count": null,
      "_view_module": "@jupyter-widgets/base",
      "_view_module_version": "1.2.0",
      "_view_name": "LayoutView",
      "align_content": null,
      "align_items": null,
      "align_self": null,
      "border": null,
      "bottom": null,
      "display": null,
      "flex": null,
      "flex_flow": null,
      "grid_area": null,
      "grid_auto_columns": null,
      "grid_auto_flow": null,
      "grid_auto_rows": null,
      "grid_column": null,
      "grid_gap": null,
      "grid_row": null,
      "grid_template_areas": null,
      "grid_template_columns": null,
      "grid_template_rows": null,
      "height": null,
      "justify_content": null,
      "justify_items": null,
      "left": null,
      "margin": null,
      "max_height": null,
      "max_width": null,
      "min_height": null,
      "min_width": null,
      "object_fit": null,
      "object_position": null,
      "order": null,
      "overflow": null,
      "overflow_x": null,
      "overflow_y": null,
      "padding": null,
      "right": null,
      "top": null,
      "visibility": null,
      "width": null
     }
    },
    "e6cbb6ac0dc94357bdb2dbedbe3723e1": {
     "model_module": "@jupyter-widgets/base",
     "model_module_version": "1.2.0",
     "model_name": "LayoutModel",
     "state": {
      "_model_module": "@jupyter-widgets/base",
      "_model_module_version": "1.2.0",
      "_model_name": "LayoutModel",
      "_view_count": null,
      "_view_module": "@jupyter-widgets/base",
      "_view_module_version": "1.2.0",
      "_view_name": "LayoutView",
      "align_content": null,
      "align_items": null,
      "align_self": null,
      "border": null,
      "bottom": null,
      "display": null,
      "flex": null,
      "flex_flow": null,
      "grid_area": null,
      "grid_auto_columns": null,
      "grid_auto_flow": null,
      "grid_auto_rows": null,
      "grid_column": null,
      "grid_gap": null,
      "grid_row": null,
      "grid_template_areas": null,
      "grid_template_columns": null,
      "grid_template_rows": null,
      "height": null,
      "justify_content": null,
      "justify_items": null,
      "left": null,
      "margin": null,
      "max_height": null,
      "max_width": null,
      "min_height": null,
      "min_width": null,
      "object_fit": null,
      "object_position": null,
      "order": null,
      "overflow": null,
      "overflow_x": null,
      "overflow_y": null,
      "padding": null,
      "right": null,
      "top": null,
      "visibility": null,
      "width": null
     }
    },
    "e71e28e4a1224d6eab4301229adee9a4": {
     "model_module": "@jupyter-widgets/controls",
     "model_module_version": "1.5.0",
     "model_name": "DescriptionStyleModel",
     "state": {
      "_model_module": "@jupyter-widgets/controls",
      "_model_module_version": "1.5.0",
      "_model_name": "DescriptionStyleModel",
      "_view_count": null,
      "_view_module": "@jupyter-widgets/base",
      "_view_module_version": "1.2.0",
      "_view_name": "StyleView",
      "description_width": ""
     }
    },
    "e853c89d46ab4d1ba8811bb6b28a084c": {
     "model_module": "@jupyter-widgets/controls",
     "model_module_version": "1.5.0",
     "model_name": "HTMLModel",
     "state": {
      "_dom_classes": [],
      "_model_module": "@jupyter-widgets/controls",
      "_model_module_version": "1.5.0",
      "_model_name": "HTMLModel",
      "_view_count": null,
      "_view_module": "@jupyter-widgets/controls",
      "_view_module_version": "1.5.0",
      "_view_name": "HTMLView",
      "description": "",
      "description_tooltip": null,
      "layout": "IPY_MODEL_c9d24b623de74350a7f278f4c80196a0",
      "placeholder": "​",
      "style": "IPY_MODEL_f290edb4b96a410296fe481103d6f817",
      "value": "Downloading: 100%"
     }
    },
    "f129ef34fb5649e293987a8b1c9dad87": {
     "model_module": "@jupyter-widgets/controls",
     "model_module_version": "1.5.0",
     "model_name": "DescriptionStyleModel",
     "state": {
      "_model_module": "@jupyter-widgets/controls",
      "_model_module_version": "1.5.0",
      "_model_name": "DescriptionStyleModel",
      "_view_count": null,
      "_view_module": "@jupyter-widgets/base",
      "_view_module_version": "1.2.0",
      "_view_name": "StyleView",
      "description_width": ""
     }
    },
    "f290edb4b96a410296fe481103d6f817": {
     "model_module": "@jupyter-widgets/controls",
     "model_module_version": "1.5.0",
     "model_name": "DescriptionStyleModel",
     "state": {
      "_model_module": "@jupyter-widgets/controls",
      "_model_module_version": "1.5.0",
      "_model_name": "DescriptionStyleModel",
      "_view_count": null,
      "_view_module": "@jupyter-widgets/base",
      "_view_module_version": "1.2.0",
      "_view_name": "StyleView",
      "description_width": ""
     }
    },
    "fa758666ee22400e803b91149f02044f": {
     "model_module": "@jupyter-widgets/controls",
     "model_module_version": "1.5.0",
     "model_name": "HTMLModel",
     "state": {
      "_dom_classes": [],
      "_model_module": "@jupyter-widgets/controls",
      "_model_module_version": "1.5.0",
      "_model_name": "HTMLModel",
      "_view_count": null,
      "_view_module": "@jupyter-widgets/controls",
      "_view_module_version": "1.5.0",
      "_view_name": "HTMLView",
      "description": "",
      "description_tooltip": null,
      "layout": "IPY_MODEL_af60c455df804694b11057659c28b27a",
      "placeholder": "​",
      "style": "IPY_MODEL_334ff387c0b6464799d94d382f140903",
      "value": "Downloading: 100%"
     }
    },
    "fa8bc98d33764b2486801a3071f72f3e": {
     "model_module": "@jupyter-widgets/base",
     "model_module_version": "1.2.0",
     "model_name": "LayoutModel",
     "state": {
      "_model_module": "@jupyter-widgets/base",
      "_model_module_version": "1.2.0",
      "_model_name": "LayoutModel",
      "_view_count": null,
      "_view_module": "@jupyter-widgets/base",
      "_view_module_version": "1.2.0",
      "_view_name": "LayoutView",
      "align_content": null,
      "align_items": null,
      "align_self": null,
      "border": null,
      "bottom": null,
      "display": null,
      "flex": null,
      "flex_flow": null,
      "grid_area": null,
      "grid_auto_columns": null,
      "grid_auto_flow": null,
      "grid_auto_rows": null,
      "grid_column": null,
      "grid_gap": null,
      "grid_row": null,
      "grid_template_areas": null,
      "grid_template_columns": null,
      "grid_template_rows": null,
      "height": null,
      "justify_content": null,
      "justify_items": null,
      "left": null,
      "margin": null,
      "max_height": null,
      "max_width": null,
      "min_height": null,
      "min_width": null,
      "object_fit": null,
      "object_position": null,
      "order": null,
      "overflow": null,
      "overflow_x": null,
      "overflow_y": null,
      "padding": null,
      "right": null,
      "top": null,
      "visibility": null,
      "width": null
     }
    },
    "fa94bab3f09c49dfb0b4426f34099c76": {
     "model_module": "@jupyter-widgets/controls",
     "model_module_version": "1.5.0",
     "model_name": "DescriptionStyleModel",
     "state": {
      "_model_module": "@jupyter-widgets/controls",
      "_model_module_version": "1.5.0",
      "_model_name": "DescriptionStyleModel",
      "_view_count": null,
      "_view_module": "@jupyter-widgets/base",
      "_view_module_version": "1.2.0",
      "_view_name": "StyleView",
      "description_width": ""
     }
    },
    "fcf3224e799a42708ce3f2c03f7668b1": {
     "model_module": "@jupyter-widgets/controls",
     "model_module_version": "1.5.0",
     "model_name": "HBoxModel",
     "state": {
      "_dom_classes": [],
      "_model_module": "@jupyter-widgets/controls",
      "_model_module_version": "1.5.0",
      "_model_name": "HBoxModel",
      "_view_count": null,
      "_view_module": "@jupyter-widgets/controls",
      "_view_module_version": "1.5.0",
      "_view_name": "HBoxView",
      "box_style": "",
      "children": [
       "IPY_MODEL_6a21e9d10f78476e971fe18405a779d5",
       "IPY_MODEL_09cdae9950dd469aa32a9deca72c6566",
       "IPY_MODEL_676411ea0b824be8960ca6262f7dfae5"
      ],
      "layout": "IPY_MODEL_dfaf3d5cae4b41ee8dd776c9470ad6c5"
     }
    }
   }
  }
 },
 "nbformat": 4,
 "nbformat_minor": 1
}
