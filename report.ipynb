{
 "cells": [
  {
   "attachments": {},
   "cell_type": "markdown",
   "metadata": {},
   "source": [
    "# Отчет"
   ]
  },
  {
   "attachments": {},
   "cell_type": "markdown",
   "metadata": {},
   "source": [
    "### Основная идея\n",
    "\n",
    "Мы решали задачу выделения аспектов в отзывах и оценки тональности по аспектам и категориям с помощью sequence-labeling. Для этого мы использовали предобученную языковую transformer модель. \n",
    "\n",
    "Содержание:\n",
    "1. Данные и модель\n",
    "3. Методы\n",
    "    - модель для оценки тональности по категориям\n",
    "    - модели для выделения аспектов и оценки их тональности\n",
    "    - joint модель для выделения аспектов и оценки их тональности\n",
    "4. Результаты"
   ]
  },
  {
   "attachments": {},
   "cell_type": "markdown",
   "metadata": {},
   "source": [
    "## Данные"
   ]
  },
  {
   "attachments": {},
   "cell_type": "markdown",
   "metadata": {},
   "source": [
    "В качестве данных мы использовали только те, которые были предложены для решения задачи. Папйплайн предобработки данных следующий:\n",
    "1. Разделили индексы отзывов на train/valid/test в пропорциях 0.8/0.1/0.1\n",
    "2. Для задачи оценки тональности по категориям был собран датафрейм со следующими колонками: индекс, текст отзыва, оценка сентимента по каждой категории\n",
    "3. Для задачи выделения аспектов и оценки их тональности текст отзывов был токенизирован и каждому токену был присвоен лейбл в BIO нотации с соответствующей категорией, а также присвоен лейбл с сентиментом. Даасет был так же собран в датафрейм с колонками: индекс, токен, лейбл категории, лейбл сентимента.\n",
    "\n",
    "Все данные находятся в папке [`data/`](https://github.com/yuliya1324/Aspect_Sent_project/tree/main/data) в формате `.csv` с названием `<task>_<split>.csv`"
   ]
  },
  {
   "attachments": {},
   "cell_type": "markdown",
   "metadata": {},
   "source": [
    "Датасет для задачи оценки тональности по категориям"
   ]
  },
  {
   "cell_type": "code",
   "execution_count": 3,
   "metadata": {},
   "outputs": [
    {
     "data": {
      "text/html": [
       "<div>\n",
       "<style scoped>\n",
       "    .dataframe tbody tr th:only-of-type {\n",
       "        vertical-align: middle;\n",
       "    }\n",
       "\n",
       "    .dataframe tbody tr th {\n",
       "        vertical-align: top;\n",
       "    }\n",
       "\n",
       "    .dataframe thead th {\n",
       "        text-align: right;\n",
       "    }\n",
       "</style>\n",
       "<table border=\"1\" class=\"dataframe\">\n",
       "  <thead>\n",
       "    <tr style=\"text-align: right;\">\n",
       "      <th></th>\n",
       "      <th>idx</th>\n",
       "      <th>text</th>\n",
       "      <th>Food</th>\n",
       "      <th>Interior</th>\n",
       "      <th>Price</th>\n",
       "      <th>Whole</th>\n",
       "      <th>Service</th>\n",
       "    </tr>\n",
       "  </thead>\n",
       "  <tbody>\n",
       "    <tr>\n",
       "      <th>0</th>\n",
       "      <td>3976</td>\n",
       "      <td>День 8-го марта прошёл, можно и итоги подвести...</td>\n",
       "      <td>positive</td>\n",
       "      <td>positive</td>\n",
       "      <td>absence</td>\n",
       "      <td>positive</td>\n",
       "      <td>positive</td>\n",
       "    </tr>\n",
       "    <tr>\n",
       "      <th>1</th>\n",
       "      <td>30808</td>\n",
       "      <td>Отмечали в этом ресторане день рождение на пер...</td>\n",
       "      <td>positive</td>\n",
       "      <td>positive</td>\n",
       "      <td>positive</td>\n",
       "      <td>positive</td>\n",
       "      <td>positive</td>\n",
       "    </tr>\n",
       "    <tr>\n",
       "      <th>2</th>\n",
       "      <td>14031</td>\n",
       "      <td>Хочу поделиться своим впечатлением от посещени...</td>\n",
       "      <td>absence</td>\n",
       "      <td>positive</td>\n",
       "      <td>absence</td>\n",
       "      <td>positive</td>\n",
       "      <td>positive</td>\n",
       "    </tr>\n",
       "    <tr>\n",
       "      <th>3</th>\n",
       "      <td>2495</td>\n",
       "      <td>Добрый день! Были вчера с друзьями в этом кафе...</td>\n",
       "      <td>positive</td>\n",
       "      <td>positive</td>\n",
       "      <td>absence</td>\n",
       "      <td>positive</td>\n",
       "      <td>positive</td>\n",
       "    </tr>\n",
       "    <tr>\n",
       "      <th>4</th>\n",
       "      <td>38835</td>\n",
       "      <td>Отметили с мужем годовщину свадьбы 6 ноября в ...</td>\n",
       "      <td>both</td>\n",
       "      <td>absence</td>\n",
       "      <td>negative</td>\n",
       "      <td>negative</td>\n",
       "      <td>positive</td>\n",
       "    </tr>\n",
       "  </tbody>\n",
       "</table>\n",
       "</div>"
      ],
      "text/plain": [
       "     idx                                               text      Food  \\\n",
       "0   3976  День 8-го марта прошёл, можно и итоги подвести...  positive   \n",
       "1  30808  Отмечали в этом ресторане день рождение на пер...  positive   \n",
       "2  14031  Хочу поделиться своим впечатлением от посещени...   absence   \n",
       "3   2495  Добрый день! Были вчера с друзьями в этом кафе...  positive   \n",
       "4  38835  Отметили с мужем годовщину свадьбы 6 ноября в ...      both   \n",
       "\n",
       "   Interior     Price     Whole   Service  \n",
       "0  positive   absence  positive  positive  \n",
       "1  positive  positive  positive  positive  \n",
       "2  positive   absence  positive  positive  \n",
       "3  positive   absence  positive  positive  \n",
       "4   absence  negative  negative  positive  "
      ]
     },
     "execution_count": 3,
     "metadata": {},
     "output_type": "execute_result"
    }
   ],
   "source": [
    "import pandas as pd\n",
    "\n",
    "df_cat = pd.read_csv('data/cats_train.csv', index_col=0)\n",
    "df_cat.head()"
   ]
  },
  {
   "attachments": {},
   "cell_type": "markdown",
   "metadata": {},
   "source": [
    "Датасет для задачи выделения аспектов и оценки их тональности"
   ]
  },
  {
   "cell_type": "code",
   "execution_count": 4,
   "metadata": {},
   "outputs": [
    {
     "data": {
      "text/html": [
       "<div>\n",
       "<style scoped>\n",
       "    .dataframe tbody tr th:only-of-type {\n",
       "        vertical-align: middle;\n",
       "    }\n",
       "\n",
       "    .dataframe tbody tr th {\n",
       "        vertical-align: top;\n",
       "    }\n",
       "\n",
       "    .dataframe thead th {\n",
       "        text-align: right;\n",
       "    }\n",
       "</style>\n",
       "<table border=\"1\" class=\"dataframe\">\n",
       "  <thead>\n",
       "    <tr style=\"text-align: right;\">\n",
       "      <th></th>\n",
       "      <th>idx</th>\n",
       "      <th>tokens</th>\n",
       "      <th>class</th>\n",
       "      <th>sentiment</th>\n",
       "    </tr>\n",
       "  </thead>\n",
       "  <tbody>\n",
       "    <tr>\n",
       "      <th>0</th>\n",
       "      <td>3976</td>\n",
       "      <td>День</td>\n",
       "      <td>O</td>\n",
       "      <td>no</td>\n",
       "    </tr>\n",
       "    <tr>\n",
       "      <th>1</th>\n",
       "      <td>3976</td>\n",
       "      <td>8-го</td>\n",
       "      <td>O</td>\n",
       "      <td>no</td>\n",
       "    </tr>\n",
       "    <tr>\n",
       "      <th>2</th>\n",
       "      <td>3976</td>\n",
       "      <td>марта</td>\n",
       "      <td>O</td>\n",
       "      <td>no</td>\n",
       "    </tr>\n",
       "    <tr>\n",
       "      <th>3</th>\n",
       "      <td>3976</td>\n",
       "      <td>прошёл</td>\n",
       "      <td>O</td>\n",
       "      <td>no</td>\n",
       "    </tr>\n",
       "    <tr>\n",
       "      <th>4</th>\n",
       "      <td>3976</td>\n",
       "      <td>,</td>\n",
       "      <td>O</td>\n",
       "      <td>no</td>\n",
       "    </tr>\n",
       "  </tbody>\n",
       "</table>\n",
       "</div>"
      ],
      "text/plain": [
       "    idx  tokens class sentiment\n",
       "0  3976    День     O        no\n",
       "1  3976    8-го     O        no\n",
       "2  3976   марта     O        no\n",
       "3  3976  прошёл     O        no\n",
       "4  3976       ,     O        no"
      ]
     },
     "execution_count": 4,
     "metadata": {},
     "output_type": "execute_result"
    }
   ],
   "source": [
    "df_aspect = pd.read_csv('data/aspects_train.csv', index_col=0)\n",
    "df_aspect.head()"
   ]
  },
  {
   "attachments": {},
   "cell_type": "markdown",
   "metadata": {},
   "source": [
    "В качестве языковой модели мы взяли предобученную модель [`sberbank-ai/ruRoberta-large`](https://huggingface.co/sberbank-ai/ruRoberta-large). Эта модель очень большая, в ней 355 M параметров, поэтому она аккумулирует в себе достаточно много знаний о русском языке. Для данной задачи мы файнтюнили только последние слои (20-23) и соответствующие классификационные головы. "
   ]
  },
  {
   "attachments": {},
   "cell_type": "markdown",
   "metadata": {},
   "source": [
    "## Методы\n",
    "\n",
    "[Отчет с графиками экспериментов и описанием параметров](https://github.com/yuliya1324/Aspect_Sent_project/blob/main/report.pdf)"
   ]
  },
  {
   "attachments": {},
   "cell_type": "markdown",
   "metadata": {},
   "source": [
    "### Модель для оценки тональности по категориям"
   ]
  },
  {
   "attachments": {
    "image.png": {
     "image/png": "[encoded data removed]"
    }
   },
   "cell_type": "markdown",
   "metadata": {},
   "source": [
    "Для данной задачи мы сделали модель, которая классифицирует сентименты сразу по всем категориям. Она состоит из общего тела энкодера и пяти классификационных голов на каждую категорию, при этом каждая голова предсказывает один из 5 классов `[\"absence\", \"positive\", \"negative\", \"both\", \"neutral\"]`. \n",
    "\n",
    "![image.png](attachment:image.png)\n",
    "\n",
    "Эмбеддинги из энекодера суммируются, проходят через дропаут с вероятностю 0.5, и классификация происходит по одному эмбеддингу всего отзыва. Лосс суммировался по всем категориям. [Тетрадка с экспериментом](https://github.com/yuliya1324/Aspect_Sent_project/blob/main/experiments/cats.ipynb)"
   ]
  },
  {
   "attachments": {},
   "cell_type": "markdown",
   "metadata": {},
   "source": [
    "### Модели для выделения аспектов и оценки их тональности\n",
    "\n",
    "Задачу с аспектами мы разделили на две: тегирование токенов по категориям и классификация по сентиментам. Для обеих задач мы делали token classification двумя разными моделями. Для первой задачи классификация происходила по 11 классам: `{\n",
    "            \"O\": 0, \n",
    "            \"B-Food\": 1, \n",
    "            \"I-Food\": 2, \n",
    "            \"B-Interior\": 3,\n",
    "            \"I-Interior\": 4, \n",
    "            \"B-Price\": 5,\n",
    "            \"I-Price\": 6, \n",
    "            \"B-Whole\": 7, \n",
    "            \"I-Whole\": 8, \n",
    "            \"B-Service\": 9, \n",
    "            \"I-Service\": 10,\n",
    "            }`. \n",
    "Для второй по 3: `{\"positive\": 0, \"negative\": 1, \"neutral\": 2, \"both\": 3}`. Для второй задачи токены, у которых нет лейбла сентимента тегировались падингом, чтобы через них не проходил градиент. На инференсе мы сначала предсказываем категорию, и потом для тех токенов, которым была присвоена категория, предсказываем тональность. Тональность спану присваивается по тональности первого токена спана.\n",
    "\n",
    "- [Тетрадка с экспериментами предсказания категорий аспектов](https://github.com/yuliya1324/Aspect_Sent_project/blob/main/experiments/aspects_cat.ipynb)\n",
    "\n",
    "- [Тетрадка с экспериментами оценки тональности аспектов](https://github.com/yuliya1324/Aspect_Sent_project/blob/main/experiments/aspects_sent.ipynb)"
   ]
  },
  {
   "attachments": {},
   "cell_type": "markdown",
   "metadata": {},
   "source": [
    "### Joint модель для выделения аспектов и оценки их тональности"
   ]
  },
  {
   "attachments": {
    "image.png": {
     "image/png": "[encoded data removed]"
    }
   },
   "cell_type": "markdown",
   "metadata": {},
   "source": [
    "Мы решили попробовать использовать одну модель для решения сразу двух задач: выделения аспектов и предсказания тональности. По эмбеддингам из Роберты сначала предсказывается тег категории, потом он конкатенируется с эмбеддингом из Роберты и предсказывается тональность уже по 4 классам (добавляется класс отсутствия тональности).\n",
    "\n",
    "![image.png](attachment:image.png)\n",
    "\n",
    "Этот метод дал результаты немного похуже раздельных моделей, поэтому в качестве  финальной версии мы выбрали предыдущий вариант. [Тетрадка с экспериментами](https://github.com/yuliya1324/Aspect_Sent_project/blob/main/experiments/Sent_joint.ipynb)"
   ]
  },
  {
   "cell_type": "code",
   "execution_count": null,
   "metadata": {},
   "outputs": [],
   "source": []
  }
 ],
 "metadata": {
  "kernelspec": {
   "display_name": "Python 3",
   "language": "python",
   "name": "python3"
  },
  "language_info": {
   "codemirror_mode": {
    "name": "ipython",
    "version": 3
   },
   "file_extension": ".py",
   "mimetype": "text/x-python",
   "name": "python",
   "nbconvert_exporter": "python",
   "pygments_lexer": "ipython3",
   "version": "3.8.5"
  },
  "orig_nbformat": 4,
  "vscode": {
   "interpreter": {
    "hash": "5d609abd5eba44aca7977447e03e2165417dba7727add115454fdf20fd0ac4b1"
   }
  }
 },
 "nbformat": 4,
 "nbformat_minor": 2
}
