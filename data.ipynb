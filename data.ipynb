{
 "cells": [
  {
   "cell_type": "code",
   "execution_count": 1,
   "id": "af930daa",
   "metadata": {
    "colab": {
     "base_uri": "https://localhost:8080/"
    },
    "id": "af930daa",
    "outputId": "16296a24-db3b-4264-a7ef-040169851248"
   },
   "outputs": [
    {
     "name": "stderr",
     "output_type": "stream",
     "text": [
      "[nltk_data] Downloading package punkt to\n",
      "[nltk_data]     C:\\Users\\Julia\\AppData\\Roaming\\nltk_data...\n",
      "[nltk_data]   Package punkt is already up-to-date!\n"
     ]
    },
    {
     "data": {
      "text/plain": [
       "True"
      ]
     },
     "execution_count": 1,
     "metadata": {},
     "output_type": "execute_result"
    }
   ],
   "source": [
    "import os\n",
    "import re\n",
    "from collections import defaultdict\n",
    "import pandas as pd\n",
    "import torch\n",
    "import random\n",
    "import numpy as np\n",
    "import json\n",
    "from sklearn.model_selection import train_test_split\n",
    "\n",
    "import nltk\n",
    "from nltk.tokenize import word_tokenize\n",
    "nltk.download('punkt')"
   ]
  },
  {
   "cell_type": "code",
   "execution_count": 2,
   "id": "0baaaac1",
   "metadata": {
    "id": "0baaaac1"
   },
   "outputs": [],
   "source": [
    "def gather_aspects(reviews, aspects_spans):\n",
    "    dataset = {\"idx\": [], \"tokens\": [], \"class\": [], \"sentiment\": []}\n",
    "    for idx in reviews:\n",
    "        review = reviews[idx]\n",
    "        spans = aspects_spans[idx]\n",
    "        start = 0    \n",
    "\n",
    "        for span in spans:\n",
    "            s = int(span[2])\n",
    "            e = int(span[3])\n",
    "            tag = span[0]\n",
    "            sent = span[4]\n",
    "\n",
    "            if s >= 0 and e <= len(review):\n",
    "                cur_tokens = word_tokenize(review[start:s])\n",
    "                dataset[\"idx\"].extend([idx] * len(cur_tokens))\n",
    "                dataset[\"tokens\"].extend(cur_tokens)\n",
    "                dataset[\"class\"].extend([\"O\"]*len(cur_tokens))\n",
    "                dataset[\"sentiment\"].extend([\"no\"] * len(cur_tokens))\n",
    "\n",
    "                span_tokens = word_tokenize(review[s:e])\n",
    "                dataset[\"idx\"].extend([idx] * len(span_tokens))\n",
    "                dataset[\"tokens\"].extend(span_tokens)\n",
    "                dataset[\"class\"].extend([\"B-\" + tag] + [\"I-\" + tag] * (len(span_tokens) - 1))\n",
    "                dataset[\"sentiment\"].extend([sent] * len(span_tokens))\n",
    "                start = e\n",
    "\n",
    "        if start:\n",
    "            cur_tokens = word_tokenize(review[start:])\n",
    "            dataset[\"idx\"].extend([idx] * len(cur_tokens))\n",
    "            dataset[\"tokens\"].extend(cur_tokens)\n",
    "            dataset[\"class\"].extend([\"O\"]*len(cur_tokens))\n",
    "            dataset[\"sentiment\"].extend([\"no\"] * len(cur_tokens))\n",
    "    return pd.DataFrame(dataset)"
   ]
  },
  {
   "cell_type": "code",
   "execution_count": 3,
   "id": "a6382a0b",
   "metadata": {
    "id": "a6382a0b"
   },
   "outputs": [],
   "source": [
    "def gather_cats(reviews, cats):\n",
    "    ds_cats = {\"idx\": [], \"text\": [], \"Food\": [], \"Interior\": [], \"Price\": [], \"Whole\": [], \"Service\": []}\n",
    "    for idx in reviews:\n",
    "        ds_cats[\"idx\"].append(idx)\n",
    "        ds_cats[\"text\"].append(reviews[idx])\n",
    "        ds_cats[\"Food\"].append(cats[idx][0])\n",
    "        ds_cats[\"Interior\"].append(cats[idx][1])\n",
    "        ds_cats[\"Price\"].append(cats[idx][2])\n",
    "        ds_cats[\"Whole\"].append(cats[idx][3])\n",
    "        ds_cats[\"Service\"].append(cats[idx][4])\n",
    "    return pd.DataFrame(ds_cats)"
   ]
  },
  {
   "cell_type": "code",
   "execution_count": 4,
   "id": "57a4b8d8",
   "metadata": {
    "id": "57a4b8d8"
   },
   "outputs": [],
   "source": [
    "def make_datasets(aspect_filename, cats_filename, reviews_filename):\n",
    "    aspects_spans = defaultdict(list)\n",
    "    with open(aspect_filename, encoding=\"utf-8\") as file:\n",
    "        for line in file:\n",
    "            line = line[:-1]\n",
    "            idx, cls, token, start, end, mark = line.split(\"\\t\")\n",
    "            aspects_spans[idx].append([cls, token, start, end, mark])\n",
    "            \n",
    "    reviews = dict()\n",
    "    with open(reviews_filename, encoding=\"utf-8\") as file:\n",
    "        for line in file:\n",
    "            line = line[:-1]\n",
    "            idx, text = line.split(\"\\t\")\n",
    "            reviews[idx] = text\n",
    "              \n",
    "    df_aspects = gather_aspects(reviews, aspects_spans)\n",
    "              \n",
    "    cats = defaultdict(list)\n",
    "    with open(cats_filename, encoding=\"utf-8\") as file:\n",
    "        for line in file:\n",
    "            line = line[:-1]\n",
    "            idx, cat, mark = line.split(\"\\t\")\n",
    "            cats[idx].append(mark)\n",
    "              \n",
    "    df_cats = gather_cats(reviews, cats)\n",
    "\n",
    "    return df_cats, df_aspects"
   ]
  },
  {
   "cell_type": "code",
   "execution_count": 5,
   "id": "1d33669b",
   "metadata": {
    "id": "1d33669b"
   },
   "outputs": [],
   "source": [
    "df_cats, df_aspects = make_datasets(\n",
    "    \"data/train_aspects.txt\", \n",
    "    \"data/train_cats.txt\", \n",
    "    \"data/train_reviews.txt\"\n",
    "    )"
   ]
  },
  {
   "cell_type": "code",
   "execution_count": 6,
   "id": "65405c9d",
   "metadata": {
    "id": "65405c9d"
   },
   "outputs": [],
   "source": [
    "indices = df_cats.idx.tolist()"
   ]
  },
  {
   "cell_type": "code",
   "execution_count": 7,
   "id": "XMDhF0Xj1Thb",
   "metadata": {
    "id": "XMDhF0Xj1Thb"
   },
   "outputs": [],
   "source": [
    "train, test = train_test_split(indices, test_size=0.2, random_state=123)\n",
    "val, test = train_test_split(test, test_size=0.5, random_state=123)"
   ]
  },
  {
   "cell_type": "code",
   "execution_count": 8,
   "id": "8hhPTaOB2oFM",
   "metadata": {
    "colab": {
     "base_uri": "https://localhost:8080/"
    },
    "id": "8hhPTaOB2oFM",
    "outputId": "600678a4-c6ea-40ad-97b2-e05963ca45d5"
   },
   "outputs": [
    {
     "data": {
      "text/plain": [
       "(227, 28, 29)"
      ]
     },
     "execution_count": 8,
     "metadata": {},
     "output_type": "execute_result"
    }
   ],
   "source": [
    "len(train), len(val), len(test)"
   ]
  },
  {
   "cell_type": "code",
   "execution_count": 9,
   "id": "jXoF9gPL2pQb",
   "metadata": {
    "id": "jXoF9gPL2pQb"
   },
   "outputs": [],
   "source": [
    "df_cats_train = df_cats[df_cats[\"idx\"].isin(train)]\n",
    "df_cats_val = df_cats[df_cats[\"idx\"].isin(val)]\n",
    "df_cats_test = df_cats[df_cats[\"idx\"].isin(test)]\n",
    "\n",
    "df_aspects_train = df_aspects[df_aspects[\"idx\"].isin(train)]\n",
    "df_aspects_val = df_aspects[df_aspects[\"idx\"].isin(val)]\n",
    "df_aspects_test = df_aspects[df_aspects[\"idx\"].isin(test)]"
   ]
  },
  {
   "cell_type": "code",
   "execution_count": 10,
   "id": "juaufPAO29fy",
   "metadata": {
    "id": "juaufPAO29fy"
   },
   "outputs": [],
   "source": [
    "df_cats_train.to_csv(\"data/cats_train.csv\")\n",
    "df_cats_val.to_csv(\"data/cats_val.csv\")\n",
    "df_cats_test.to_csv(\"data/cats_test.csv\")\n",
    "\n",
    "df_aspects_train.to_csv(\"data/aspects_train.csv\")\n",
    "df_aspects_val.to_csv(\"data/aspects_val.csv\")\n",
    "df_aspects_test.to_csv(\"data/aspects_test.csv\")"
   ]
  },
  {
   "cell_type": "code",
   "execution_count": 17,
   "id": "27839f7b",
   "metadata": {},
   "outputs": [],
   "source": [
    "def rewrite_files(old_file, new_file):\n",
    "    with open(old_file, encoding=\"utf-8\") as file_read:\n",
    "        with open(new_file, \"w\", encoding=\"utf-8\") as file_write:\n",
    "            for line in file_read:\n",
    "                idx = line.split(\"\\t\")[0]\n",
    "                if idx in test:\n",
    "                    file_write.write(line)"
   ]
  },
  {
   "cell_type": "code",
   "execution_count": 19,
   "id": "2c34f085",
   "metadata": {},
   "outputs": [],
   "source": [
    "rewrite_files(\"data/train_aspects.txt\", \"data/dev_aspects.txt\")\n",
    "rewrite_files(\"data/train_cats.txt\", \"data/dev_cats.txt\")\n",
    "rewrite_files(\"data/train_reviews.txt\", \"data/dev_reviews.txt\")"
   ]
  },
  {
   "cell_type": "code",
   "execution_count": null,
   "id": "ca2007e6",
   "metadata": {},
   "outputs": [],
   "source": []
  }
 ],
 "metadata": {
  "colab": {
   "provenance": []
  },
  "kernelspec": {
   "display_name": "Python 3 (ipykernel)",
   "language": "python",
   "name": "python3"
  },
  "language_info": {
   "codemirror_mode": {
    "name": "ipython",
    "version": 3
   },
   "file_extension": ".py",
   "mimetype": "text/x-python",
   "name": "python",
   "nbconvert_exporter": "python",
   "pygments_lexer": "ipython3",
   "version": "3.8.13"
  },
  "vscode": {
   "interpreter": {
    "hash": "dccf460136baee8ffb9a1dfb7aa1de5a4d6be4bb6bc26771244924976d22362f"
   }
  }
 },
 "nbformat": 4,
 "nbformat_minor": 5
}
