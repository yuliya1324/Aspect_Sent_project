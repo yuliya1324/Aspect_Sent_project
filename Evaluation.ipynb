{
 "cells": [
  {
   "cell_type": "code",
   "execution_count": 11,
   "id": "3d42dcf3",
   "metadata": {
    "id": "3d42dcf3"
   },
   "outputs": [],
   "source": [
    "gold_test_path = \"data/dev_aspects.txt\"\n",
    "pred_test_path = \"data/dev_pred_aspects.txt\""
   ]
  },
  {
   "cell_type": "markdown",
   "id": "f8e5a9cd",
   "metadata": {
    "id": "f8e5a9cd"
   },
   "source": [
    "# Оценка 1: accuracy по выделению упоминаний с категориями"
   ]
  },
  {
   "cell_type": "code",
   "execution_count": 12,
   "id": "0c3bf6ae",
   "metadata": {
    "id": "0c3bf6ae"
   },
   "outputs": [],
   "source": [
    "from collections import defaultdict"
   ]
  },
  {
   "cell_type": "code",
   "execution_count": 13,
   "id": "8fb687e6",
   "metadata": {
    "id": "8fb687e6"
   },
   "outputs": [],
   "source": [
    "gold_aspect_cats = {}\n",
    "with open(gold_test_path) as fg:\n",
    "    for line in fg:\n",
    "        line = line.rstrip('\\r\\n').split('\\t')\n",
    "        if line[0] not in gold_aspect_cats:\n",
    "            gold_aspect_cats[line[0]] = {\"starts\":[], \"ends\":[], \"cats\":[], \"sents\":[]}\n",
    "        gold_aspect_cats[line[0]][\"starts\"].append(int(line[3]))\n",
    "        gold_aspect_cats[line[0]][\"ends\"].append(int(line[4]))\n",
    "        gold_aspect_cats[line[0]][\"cats\"].append(line[1])\n",
    "        gold_aspect_cats[line[0]][\"sents\"].append(line[5])"
   ]
  },
  {
   "cell_type": "code",
   "execution_count": 14,
   "id": "72d03788",
   "metadata": {
    "id": "72d03788"
   },
   "outputs": [],
   "source": [
    "full_match, partial_match, full_cat_match, partial_cat_match = 0, 0, 0, 0\n",
    "total = 0\n",
    "fully_matched_pairs = []\n",
    "partially_matched_pairs = []\n",
    "with open(pred_test_path) as fp:\n",
    "    for line in fp:    \n",
    "        total += 1\n",
    "        line = line.rstrip('\\r\\n').split('\\t')\n",
    "        start, end = int(line[3]), int(line[4])\n",
    "        category = line[1]\n",
    "        doc_gold_aspect_cats = gold_aspect_cats[line[0]]\n",
    "        if start in doc_gold_aspect_cats[\"starts\"]:\n",
    "            i = doc_gold_aspect_cats[\"starts\"].index(start)\n",
    "            if doc_gold_aspect_cats[\"ends\"][i] == end:\n",
    "                full_match += 1\n",
    "                if doc_gold_aspect_cats[\"cats\"][i] == category:\n",
    "                    full_cat_match += 1\n",
    "                else:\n",
    "                    partial_cat_match += 1\n",
    "                fully_matched_pairs.append(\n",
    "                    (\n",
    "                        [\n",
    "                            doc_gold_aspect_cats[\"starts\"][i], \n",
    "                            doc_gold_aspect_cats[\"ends\"][i], \n",
    "                            doc_gold_aspect_cats[\"cats\"][i],\n",
    "                            doc_gold_aspect_cats[\"sents\"][i]\n",
    "                        ],\n",
    "                        line\n",
    "                    )\n",
    "                )\n",
    "                continue\n",
    "        for s_pos in doc_gold_aspect_cats[\"starts\"]:\n",
    "            if start <= s_pos:\n",
    "                i = doc_gold_aspect_cats[\"starts\"].index(s_pos)\n",
    "                if doc_gold_aspect_cats[\"ends\"][i] == end:\n",
    "                    partial_match += 1\n",
    "                    partially_matched_pairs.append(\n",
    "                        (\n",
    "                            [\n",
    "                                doc_gold_aspect_cats[\"starts\"][i], \n",
    "                                doc_gold_aspect_cats[\"ends\"][i], \n",
    "                                doc_gold_aspect_cats[\"cats\"][i],\n",
    "                                doc_gold_aspect_cats[\"sents\"][i]\n",
    "                            ],\n",
    "                            line\n",
    "                        )\n",
    "                    )\n",
    "                    if doc_gold_aspect_cats[\"cats\"][i] == category:\n",
    "                        partial_cat_match += 1\n",
    "                    continue\n",
    "                matched = False\n",
    "                for e_pos in doc_gold_aspect_cats[\"ends\"][i:]:\n",
    "                    if s_pos <= end <= e_pos:\n",
    "                        partial_match += 1\n",
    "                        partially_matched_pairs.append(\n",
    "                            (\n",
    "                                [\n",
    "                                    doc_gold_aspect_cats[\"starts\"][i], \n",
    "                                    doc_gold_aspect_cats[\"ends\"][i], \n",
    "                                    doc_gold_aspect_cats[\"cats\"][i],\n",
    "                                    doc_gold_aspect_cats[\"sents\"][i]\n",
    "                                ],\n",
    "                                line\n",
    "                            )\n",
    "                        )\n",
    "                        if doc_gold_aspect_cats[\"cats\"][i] == category:\n",
    "                            partial_cat_match += 1\n",
    "                        matched = True\n",
    "                        break\n",
    "                if matched:\n",
    "                    break\n",
    "            if start > s_pos:\n",
    "                i = doc_gold_aspect_cats[\"starts\"].index(s_pos)\n",
    "                if start < doc_gold_aspect_cats[\"ends\"][i] <= end:\n",
    "                    partial_match += 1\n",
    "                    partially_matched_pairs.append(\n",
    "                        (\n",
    "                            [\n",
    "                                doc_gold_aspect_cats[\"starts\"][i], \n",
    "                                doc_gold_aspect_cats[\"ends\"][i], \n",
    "                                doc_gold_aspect_cats[\"cats\"][i],\n",
    "                                doc_gold_aspect_cats[\"sents\"][i]\n",
    "                            ],\n",
    "                            line\n",
    "                        )\n",
    "                    )\n",
    "                    if doc_gold_aspect_cats[\"cats\"][i] == category:\n",
    "                        partial_cat_match += 1\n",
    "                    break"
   ]
  },
  {
   "cell_type": "code",
   "execution_count": 15,
   "id": "875e62bc",
   "metadata": {
    "id": "875e62bc"
   },
   "outputs": [],
   "source": [
    "gold_size = sum([len(gold_aspect_cats[x][\"cats\"]) for x in gold_aspect_cats])"
   ]
  },
  {
   "cell_type": "code",
   "execution_count": 16,
   "id": "f0140d3a",
   "metadata": {
    "id": "f0140d3a",
    "outputId": "3cf2600c-303b-4f04-fe25-b12dceedf49f"
   },
   "outputs": [
    {
     "name": "stdout",
     "output_type": "stream",
     "text": [
      "\n",
      "Full match precision: 0.7204301075268817\n",
      "Full match recall: 0.654296875\n",
      "Partial match ratio in pred: 0.8623655913978494\n",
      "Full category accuracy: 0.7075268817204301\n",
      "Partial category accuracy: 0.8494623655913979\n",
      "\n"
     ]
    }
   ],
   "source": [
    "print(f\"\"\"\n",
    "Full match precision: {full_match / total}\n",
    "Full match recall: {full_match / gold_size}\n",
    "Partial match ratio in pred: {(full_match + partial_match)  / total}\n",
    "Full category accuracy: {full_cat_match / total}\n",
    "Partial category accuracy: {(full_cat_match + partial_cat_match) / total}\n",
    "\"\"\")\n"
   ]
  },
  {
   "cell_type": "markdown",
   "id": "74fd3833",
   "metadata": {
    "id": "74fd3833"
   },
   "source": [
    "# Оценка 2: accuracy по тональности упоминаний"
   ]
  },
  {
   "cell_type": "code",
   "execution_count": 17,
   "id": "af14b470",
   "metadata": {
    "id": "af14b470"
   },
   "outputs": [],
   "source": [
    "def sentiment_accuracy(matches):\n",
    "    matched_sentiment = 0.\n",
    "    for pair in matches:\n",
    "        *_, gold_s = pair[0]\n",
    "        *_, pred_s = pair[1]\n",
    "        if gold_s == pred_s:\n",
    "            matched_sentiment += 1\n",
    "    print(f\"Mention sentiment accuracy: {matched_sentiment / len(matches)}\")"
   ]
  },
  {
   "cell_type": "markdown",
   "id": "b2433a85",
   "metadata": {
    "id": "b2433a85"
   },
   "source": [
    "Accuracy по полностью совпавшим упоминаниям:"
   ]
  },
  {
   "cell_type": "code",
   "execution_count": 18,
   "id": "4fb606e7",
   "metadata": {
    "id": "4fb606e7",
    "outputId": "d18cf46e-9090-45a6-96f1-f197f64ee0d5"
   },
   "outputs": [
    {
     "name": "stdout",
     "output_type": "stream",
     "text": [
      "Mention sentiment accuracy: 0.7313432835820896\n"
     ]
    }
   ],
   "source": [
    "sentiment_accuracy(fully_matched_pairs)"
   ]
  },
  {
   "cell_type": "markdown",
   "id": "e60cf752",
   "metadata": {
    "id": "e60cf752"
   },
   "source": [
    "Accuracy по частично совпавшим упоминаниям:"
   ]
  },
  {
   "cell_type": "code",
   "execution_count": 19,
   "id": "8dd77f7a",
   "metadata": {
    "id": "8dd77f7a",
    "outputId": "15597fb4-ef32-43c4-b872-18bdadac0879"
   },
   "outputs": [
    {
     "name": "stdout",
     "output_type": "stream",
     "text": [
      "Mention sentiment accuracy: 0.8181818181818182\n"
     ]
    }
   ],
   "source": [
    "sentiment_accuracy(partially_matched_pairs)"
   ]
  },
  {
   "cell_type": "markdown",
   "id": "a3f284bf",
   "metadata": {
    "id": "a3f284bf"
   },
   "source": [
    "# Оценка 3: accuracy по тональности категории"
   ]
  },
  {
   "cell_type": "code",
   "execution_count": 20,
   "id": "28091f5d",
   "metadata": {
    "executionInfo": {
     "elapsed": 10,
     "status": "ok",
     "timestamp": 1671473681761,
     "user": {
      "displayName": "Юлия Короткова",
      "userId": "07771836480209080958"
     },
     "user_tz": -180
    },
    "id": "28091f5d"
   },
   "outputs": [],
   "source": [
    "gold_test_cats_path = \"data/dev_cats.txt\"\n",
    "pred_test_cats_path = \"data/dev_pred_cats.txt\""
   ]
  },
  {
   "cell_type": "code",
   "execution_count": 21,
   "id": "7d8e5502",
   "metadata": {
    "colab": {
     "base_uri": "https://localhost:8080/"
    },
    "executionInfo": {
     "elapsed": 1435,
     "status": "ok",
     "timestamp": 1671473684548,
     "user": {
      "displayName": "Юлия Короткова",
      "userId": "07771836480209080958"
     },
     "user_tz": -180
    },
    "id": "7d8e5502",
    "outputId": "89e667a9-786d-4ec3-ba69-f995e4047bfc"
   },
   "outputs": [
    {
     "name": "stdout",
     "output_type": "stream",
     "text": [
      "Overall sentiment accuracy: 0.7724137931034483\n"
     ]
    }
   ],
   "source": [
    "with open(gold_test_cats_path) as gc, open(pred_test_cats_path) as pc:\n",
    "    gold_labels = set(gc.readlines())\n",
    "    pred_labels = set(pc.readlines())\n",
    "    print(\n",
    "        \"Overall sentiment accuracy:\",\n",
    "        len(gold_labels & pred_labels) / len(gold_labels)\n",
    "    )"
   ]
  },
  {
   "cell_type": "code",
   "execution_count": null,
   "id": "24eae125",
   "metadata": {
    "id": "24eae125"
   },
   "outputs": [],
   "source": []
  }
 ],
 "metadata": {
  "colab": {
   "provenance": []
  },
  "kernelspec": {
   "display_name": "Python 3 (ipykernel)",
   "language": "python",
   "name": "python3"
  },
  "language_info": {
   "codemirror_mode": {
    "name": "ipython",
    "version": 3
   },
   "file_extension": ".py",
   "mimetype": "text/x-python",
   "name": "python",
   "nbconvert_exporter": "python",
   "pygments_lexer": "ipython3",
   "version": "3.8.13"
  },
  "vscode": {
   "interpreter": {
    "hash": "dccf460136baee8ffb9a1dfb7aa1de5a4d6be4bb6bc26771244924976d22362f"
   }
  }
 },
 "nbformat": 4,
 "nbformat_minor": 5
}
